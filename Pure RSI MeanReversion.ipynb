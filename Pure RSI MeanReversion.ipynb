{
 "cells": [
  {
   "cell_type": "code",
   "execution_count": 1,
   "metadata": {},
   "outputs": [],
   "source": [
    "import os\n",
    "import logging, timeit\n",
    "from btEngine2.DataLoader import DataLoader\n",
    "from btEngine2.MarketData import MarketData\n",
    "from btEngine2.TradingRule import TradingRule\n",
    "\n",
    "\n",
    "\n",
    "# Define paths and configurations for DataLoader\n",
    "ticker_csv_path = r'G:\\Projects\\BackTesting1.0\\Data\\Inputs\\TickerList-Futs.csv'\n",
    "save_directory = r\"G:\\Projects\\BackTesting1.0\\Data\\Bloomberg\\Futures\"\n",
    "helper_directory = r'G:\\Projects\\BackTesting1.0\\Data\\Bloomberg\\HelperFiles'\n",
    "\n",
    "bt_folder = r'BackTests'\n",
    "\n",
    "# Define paths to auxiliary data for MarketData\n",
    "tick_values_path = os.path.join(helper_directory, 'fut_val_pt.parquet')\n",
    "fx_rates_path = os.path.join(helper_directory, 'fxHist.parquet')\n",
    "\n",
    "# Initialize the MarketData\n",
    "market_data = MarketData(\n",
    "    base_directory=save_directory,\n",
    "    tick_values_path=tick_values_path,\n",
    "    fx_rates_path=fx_rates_path,\n",
    "    instrument_type=\"Futures\",\n",
    "    n_threads=8,  # Number of threads for parallel data loading\n",
    "    log_level=logging.ERROR  # Set to DEBUG for more detailed logs\n",
    ")\n"
   ]
  },
  {
   "cell_type": "code",
   "execution_count": null,
   "metadata": {},
   "outputs": [],
   "source": [
    "tick = 'ES1 Index'\n",
    "# Access data for a specific ticker\n",
    "try:\n",
    "    test_df = market_data.get_ticker_data(tick)\n",
    "    print(test_df)\n",
    "except ValueError as e:\n",
    "    print(e)\n",
    "\n",
    "# Access all preprocessed data\n",
    "all_data = market_data.get_data()\n",
    "print(f\"Total tickers loaded: {len(all_data)}\")\n",
    "\n",
    "# Access FX rates\n",
    "fx_rates = market_data.get_fx_rates()\n",
    "# Access tick values\n",
    "tick_values = market_data.get_tick_values()\n",
    "# Access asset classes\n",
    "asset_classes = market_data.get_asset_classes()\n",
    "\n",
    "#market_data = market_data.date_filter(start_date='01012010')"
   ]
  },
  {
   "cell_type": "code",
   "execution_count": 3,
   "metadata": {},
   "outputs": [],
   "source": [
    "\n",
    "pSizeParams = {\n",
    "    'AssetVol': r'G:\\Projects\\BackTesting1.0\\Data\\Inputs\\AssetSizing-Futs.csv',  # Target asset volatility in USD\n",
    "    'VolLookBack': 21  # Lookback period for volatility calculation\n",
    "}\n"
   ]
  },
  {
   "cell_type": "code",
   "execution_count": 4,
   "metadata": {},
   "outputs": [],
   "source": [
    "from btEngine2.Rules.MeanReversion.rsi_mr import *\n",
    "\n",
    "\n",
    "strategy_params_l = {\n",
    "    'N': 2,\n",
    "    'lmt_atr_ratio': 0.7,\n",
    "    'lmt_atr_period': 3,\n",
    "    'lmt_epsilon':0.1,\n",
    "    'rsi_period': 3,\n",
    "    'consecutive_days': 3,\n",
    "    'rsi_threshold': 5.0,  # Typically low RSI for long entries\n",
    "    'optional_rsi': (3, 2, 25),    # (rsi_period, cumulative_days, threshold)\n",
    "    'optional_ma': None,     # (ma_period, ma_type)\n",
    "    'atr_type':'atr'\n",
    "}\n",
    "\n",
    "strategy_params_s = {\n",
    "    'N': 2,\n",
    "    'lmt_atr_ratio': 0.7,\n",
    "    'lmt_atr_period': 3,\n",
    "    'lmt_epsilon':0.1,\n",
    "    'rsi_period': 3,\n",
    "    'consecutive_days': 3,\n",
    "    'rsi_threshold': 5.0,  # Typically low RSI for long entries\n",
    "    'optional_rsi': (3, 2, 75),    # (rsi_period, cumulative_days, threshold)\n",
    "    'optional_ma': None,     # (ma_period, ma_type)\n",
    "    'atr_type':'atr'\n",
    "}\n",
    "\n",
    "#strategy_params_l = {}\n",
    "#strateg_params_s = {}"
   ]
  },
  {
   "cell_type": "code",
   "execution_count": 5,
   "metadata": {},
   "outputs": [],
   "source": [
    "### Where the magic happens\n",
    "mr_long = TradingRule(\n",
    "    market_data=market_data,\n",
    "    trading_rule_function=rsi_mrb_long,\n",
    "    trading_params=strategy_params_l,\n",
    "    position_sizing_params=pSizeParams,  # Define as needed\n",
    "    name_label='ts_rsimr_long',\n",
    "    log_level=logging.ERROR,\n",
    "    bt_folder = bt_folder\n",
    ")\n",
    "\n",
    "mr_short = TradingRule(\n",
    "    market_data=market_data,\n",
    "    trading_rule_function=rsi_mrb_short,\n",
    "    trading_params=strategy_params_s,\n",
    "    position_sizing_params=pSizeParams,  # Define as needed\n",
    "    name_label='ts_rsimr_short',\n",
    "    log_level=logging.ERROR,\n",
    "    bt_folder = bt_folder\n",
    ")"
   ]
  },
  {
   "cell_type": "code",
   "execution_count": 39,
   "metadata": {},
   "outputs": [],
   "source": [
    "\n",
    "\n",
    "res = mr_long.backtest_all_assets(save=True)\n",
    "ress = mr_short.backtest_all_assets(save=True)"
   ]
  },
  {
   "cell_type": "code",
   "execution_count": null,
   "metadata": {},
   "outputs": [],
   "source": [
    "filtr = asset_classes['fi-us'] + asset_classes['fi-eu'] + asset_classes['stir'] + asset_classes['fi-as']\n",
    "resdb = mr_long.plot_equity(byac=True,totalsys=True, start_date = '01012000', save_fig=False, filter_assets=filtr)\n"
   ]
  },
  {
   "cell_type": "code",
   "execution_count": null,
   "metadata": {},
   "outputs": [],
   "source": [
    "resdb = mr_short.plot_equity(byac=True,totalsys=True, start_date = '01012000', save_fig=False, filter_assets=filtr)\n"
   ]
  },
  {
   "cell_type": "code",
   "execution_count": null,
   "metadata": {},
   "outputs": [],
   "source": [
    "test_df['Close'].diff()"
   ]
  },
  {
   "cell_type": "code",
   "execution_count": null,
   "metadata": {},
   "outputs": [],
   "source": [
    "compute_effective_atr(test_df, 14)"
   ]
  },
  {
   "cell_type": "code",
   "execution_count": 12,
   "metadata": {},
   "outputs": [],
   "source": [
    "testing = rsi_mrb_long(test_df, **strategy_params_l)\n",
    "testing.to_pandas().to_clipboard()"
   ]
  },
  {
   "cell_type": "code",
   "execution_count": 46,
   "metadata": {},
   "outputs": [],
   "source": []
  },
  {
   "cell_type": "code",
   "execution_count": null,
   "metadata": {},
   "outputs": [],
   "source": []
  }
 ],
 "metadata": {
  "kernelspec": {
   "display_name": "base",
   "language": "python",
   "name": "python3"
  },
  "language_info": {
   "codemirror_mode": {
    "name": "ipython",
    "version": 3
   },
   "file_extension": ".py",
   "mimetype": "text/x-python",
   "name": "python",
   "nbconvert_exporter": "python",
   "pygments_lexer": "ipython3",
   "version": "3.11.9"
  }
 },
 "nbformat": 4,
 "nbformat_minor": 2
}
