{
 "cells": [
  {
   "cell_type": "code",
   "execution_count": 4,
   "metadata": {},
   "outputs": [],
   "source": [
    "import os\n",
    "import pandas as pd\n",
    "import numpy as np\n",
    "from matplotlib import pyplot as plt\n",
    "\n",
    "import polars as pl\n",
    "\n",
    "import sys\n",
    "\n",
    "# Add the path to the parent directory of btEngine2\n",
    "sys.path.append(r'G:\\Projects\\BackTesting1.0')\n",
    "\n",
    "from btEngine2.MarketData import *\n",
    "from btEngine2.TradingRule import *\n",
    "\n",
    "def custom_format(x):\n",
    "    if abs(x) < 10:\n",
    "        return f\"{x:.2f}\"\n",
    "    else:\n",
    "        return f\"{x:,.0f}\"\n",
    "    \n",
    "pd.options.display.float_format = custom_format\n",
    "\n",
    "from IPython.display import display\n",
    "\n",
    "def display_with_title(df):\n",
    "    \"\"\"\n",
    "    Display a DataFrame with its title if the title attribute is set.\n",
    "    \n",
    "    :param df: The DataFrame to display.\n",
    "    \"\"\"\n",
    "    title = df.attrs.get('title', None)\n",
    "    if title:\n",
    "        print(title)\n",
    "    display(df)\n",
    "\n"
   ]
  },
  {
   "cell_type": "code",
   "execution_count": 5,
   "metadata": {},
   "outputs": [
    {
     "name": "stdout",
     "output_type": "stream",
     "text": [
      "shape: (11_293, 9)\n",
      "┌─────────────┬───────────┬───────────┬───────────┬───┬──────────┬────────┬────────────┬───────────┐\n",
      "│ Date        ┆ Open      ┆ High      ┆ Low       ┆ … ┆ Volume   ┆ Name   ┆ Carry_Clos ┆ Carry     │\n",
      "│ ---         ┆ ---       ┆ ---       ┆ ---       ┆   ┆ ---      ┆ ---    ┆ e          ┆ ---       │\n",
      "│ datetime[ns ┆ f64       ┆ f64       ┆ f64       ┆   ┆ f64      ┆ str    ┆ ---        ┆ f64       │\n",
      "│ ]           ┆           ┆           ┆           ┆   ┆          ┆        ┆ f64        ┆           │\n",
      "╞═════════════╪═══════════╪═══════════╪═══════════╪═══╪══════════╪════════╪════════════╪═══════════╡\n",
      "│ 1980-01-02  ┆ -41.875   ┆ -41.875   ┆ -43.09375 ┆ … ┆ 6297.0   ┆ US1    ┆ -29.84375  ┆ NaN       │\n",
      "│ 00:00:00    ┆           ┆           ┆           ┆   ┆          ┆ Comdty ┆            ┆           │\n",
      "│ 1980-01-03  ┆ -43.46875 ┆ -43.34375 ┆ -43.9375  ┆ … ┆ 7949.0   ┆ US1    ┆ -30.25     ┆ NaN       │\n",
      "│ 00:00:00    ┆           ┆           ┆           ┆   ┆          ┆ Comdty ┆            ┆           │\n",
      "│ 1980-01-04  ┆ -43.625   ┆ -43.15625 ┆ -43.9375  ┆ … ┆ 7021.0   ┆ US1    ┆ -30.5625   ┆ NaN       │\n",
      "│ 00:00:00    ┆           ┆           ┆           ┆   ┆          ┆ Comdty ┆            ┆           │\n",
      "│ 1980-01-07  ┆ -44.5     ┆ -43.625   ┆ -44.5     ┆ … ┆ 7523.0   ┆ US1    ┆ -30.4375   ┆ NaN       │\n",
      "│ 00:00:00    ┆           ┆           ┆           ┆   ┆          ┆ Comdty ┆            ┆           │\n",
      "│ 1980-01-08  ┆ -43.53125 ┆ -43.0     ┆ -43.78125 ┆ … ┆ 9528.0   ┆ US1    ┆ -29.9375   ┆ NaN       │\n",
      "│ 00:00:00    ┆           ┆           ┆           ┆   ┆          ┆ Comdty ┆            ┆           │\n",
      "│ …           ┆ …         ┆ …         ┆ …         ┆ … ┆ …        ┆ …      ┆ …          ┆ …         │\n",
      "│ 2024-09-12  ┆ 126.75    ┆ 127.0     ┆ 125.9375  ┆ … ┆ 441076.0 ┆ US1    ┆ 126.5625   ┆ -0.642385 │\n",
      "│ 00:00:00    ┆           ┆           ┆           ┆   ┆          ┆ Comdty ┆            ┆           │\n",
      "│ 2024-09-13  ┆ 126.5     ┆ 127.09375 ┆ 126.28125 ┆ … ┆ 365669.0 ┆ US1    ┆ 126.9375   ┆ -0.689389 │\n",
      "│ 00:00:00    ┆           ┆           ┆           ┆   ┆          ┆ Comdty ┆            ┆           │\n",
      "│ 2024-09-16  ┆ 126.65625 ┆ 127.3125  ┆ 126.5     ┆ … ┆ 367688.0 ┆ US1    ┆ 127.46875  ┆ -0.767728 │\n",
      "│ 00:00:00    ┆           ┆           ┆           ┆   ┆          ┆ Comdty ┆            ┆           │\n",
      "│ 2024-09-17  ┆ 127.25    ┆ 127.6875  ┆ 126.6875  ┆ … ┆ 474235.0 ┆ US1    ┆ 127.21875  ┆ -0.877404 │\n",
      "│ 00:00:00    ┆           ┆           ┆           ┆   ┆          ┆ Comdty ┆            ┆           │\n",
      "│ 2024-09-18  ┆ 126.75    ┆ 126.96875 ┆ 125.53125 ┆ … ┆ 497375.0 ┆ US1    ┆ 126.34375  ┆ -0.987079 │\n",
      "│ 00:00:00    ┆           ┆           ┆           ┆   ┆          ┆ Comdty ┆            ┆           │\n",
      "└─────────────┴───────────┴───────────┴───────────┴───┴──────────┴────────┴────────────┴───────────┘\n"
     ]
    }
   ],
   "source": [
    "testfile = r'G:\\Projects\\BackTesting1.0\\Data\\Bloomberg\\Futures\\fi-us\\US1 Comdty.parquet'\n",
    "\n",
    "df = pl.read_parquet(testfile)\n",
    "\n",
    "print(df)"
   ]
  },
  {
   "cell_type": "code",
   "execution_count": 6,
   "metadata": {},
   "outputs": [],
   "source": [
    "\n",
    "def mean_reversion_bounce(df, ema_period=200, atr_period=200, atr_multiplier=0.5):\n",
    "    \"\"\"\n",
    "    Detects mean reversion bounce trades in an uptrend (price > 20-day EMA),\n",
    "    with BadOHLC adjustment and persistence of uptrend on entry into bounce area.\n",
    "    \n",
    "    :param df: DataFrame containing price data (OHLC).\n",
    "    :param ema_period: Period for the EMA (default is 20).\n",
    "    :param atr_period: Period for ATR calculation (default is 14).\n",
    "    :param atr_multiplier: Multiplier for ATR to define the bounce area (default is 0.4).\n",
    "    :return: DataFrame with bounce signals and associated metrics.\n",
    "    \"\"\"\n",
    "    df = df.to_pandas()\n",
    "    # Step 1: Calculate the 20-day EMA\n",
    "    df['EMA'] = df['Close'].ewm(span=ema_period, adjust=False).mean()\n",
    "\n",
    "    # Step 2: Calculate the 14-day ATR (Average True Range) with BadOHLC adjustment\n",
    "    df['H-L'] = df['High'] - df['Low']\n",
    "    df['H-PC'] = np.abs(df['High'] - df['Close'].shift(1))\n",
    "    df['L-PC'] = np.abs(df['Low'] - df['Close'].shift(1))\n",
    "    df['TR'] = df[['H-L', 'H-PC', 'L-PC']].max(axis=1)  # True Range\n",
    "    \n",
    "    # Compute normal ATR\n",
    "    df['ATR'] = df['TR'].rolling(window=atr_period).mean()\n",
    "\n",
    "    # Step 3: Replace ATR with standard deviation when BadOHLC is True\n",
    "    df['ATR_SD'] = df['Close'].rolling(window=atr_period).std()\n",
    "    df['Effective_ATR'] = np.where(df['BadOHLC'], df['ATR_SD'], df['ATR'])\n",
    "\n",
    "    # Step 4: Define the bounce area using the Effective ATR\n",
    "    df['Upper_Bounce_Area'] = df['EMA'] + atr_multiplier * df['Effective_ATR']\n",
    "    df['Lower_Bounce_Area'] = df['EMA'] - atr_multiplier * df['Effective_ATR']\n",
    "\n",
    "    # Step 5: Determine if the price is in an uptrend (price > EMA)\n",
    "    df['Uptrend'] = df['Close'] > df['EMA']\n",
    "\n",
    "    # Step 6: Detect when price enters the bounce area\n",
    "    df['In_Bounce_Area'] = (df['Close'] >= df['Lower_Bounce_Area']) & (df['Close'] <= df['Upper_Bounce_Area'])\n",
    "\n",
    "    # Step 7: Track if the asset was in an uptrend before entering the bounce area\n",
    "    df['Uptrend_On_Entry'] = np.nan  # Initialize column to track the uptrend state at bounce entry\n",
    "    df['Uptrend_On_Entry'] = df['Uptrend_On_Entry'].astype('bool')  # Convert to boolean type\n",
    "    # Initialize variables to persist the bounce state\n",
    "    in_bounce_area = False\n",
    "    uptrend_on_entry = False\n",
    "\n",
    "    # Step 8: Log the bounce signal when price exits the bounce area\n",
    "    df['Bounce_Signal'] = np.nan  # Initialize the bounce signal column\n",
    "    df['Final_Signal'] = np.nan  # Initialize the final signal column (filtered by Uptrend_On_Entry)\n",
    "\n",
    "    for i in range(1, len(df)):\n",
    "        # First time entering the bounce area\n",
    "        if df['In_Bounce_Area'].iloc[i] and not in_bounce_area:\n",
    "            in_bounce_area = True\n",
    "            uptrend_on_entry = df['Uptrend'].iloc[i - 1]  # Capture the uptrend state before entering\n",
    "            df.loc[df.index[i], 'Uptrend_On_Entry'] = uptrend_on_entry\n",
    "        \n",
    "        # Still in the bounce area, persist the uptrend state\n",
    "        elif df['In_Bounce_Area'].iloc[i] and in_bounce_area:\n",
    "            df.loc[df.index[i], 'Uptrend_On_Entry'] = uptrend_on_entry\n",
    "\n",
    "        # Exiting the bounce area\n",
    "        elif not df['In_Bounce_Area'].iloc[i] and in_bounce_area:\n",
    "            if df['Close'].iloc[i] > df['Upper_Bounce_Area'].iloc[i]:\n",
    "                df.loc[df.index[i], 'Bounce_Signal'] = 1  # Successful bounce (exits above upper bound)\n",
    "            elif df['Close'].iloc[i] < df['Lower_Bounce_Area'].iloc[i]:\n",
    "                df.loc[df.index[i], 'Bounce_Signal'] = -1  # Failed bounce (breaks below lower bound)\n",
    "\n",
    "            # If the asset was in an uptrend on entry, set the final signal\n",
    "            if uptrend_on_entry:\n",
    "                df.loc[df.index[i], 'Final_Signal'] = df['Bounce_Signal'].iloc[i]\n",
    "\n",
    "            # Reset the bounce area tracking\n",
    "            in_bounce_area = False\n",
    "            uptrend_on_entry = False\n",
    "\n",
    "    # Clean up intermediate columns\n",
    "    df.drop(columns=['H-L', 'H-PC', 'L-PC', 'TR', 'ATR_SD'], inplace=True, errors='ignore')\n",
    "\n",
    "    return df\n",
    "\n",
    "# Example usage:\n",
    "# Assuming df is a DataFrame with OHLC data and a 'BadOHLC' column indicating faulty data\n",
    "# df = mean_reversion_bounce(df)\n",
    "# print(df[['Close', 'EMA', 'Upper_Bounce_Area', 'Lower_Bounce_Area', 'Bounce_Signal', 'Final_Signal']])\n"
   ]
  },
  {
   "cell_type": "code",
   "execution_count": 7,
   "metadata": {},
   "outputs": [
    {
     "name": "stderr",
     "output_type": "stream",
     "text": [
      "2024-09-19 14:06:12,790 INFO MarketData: Loading tick values from G:\\Projects\\BackTesting1.0\\Data\\Bloomberg\\HelperFiles\\fut_val_pt.parquet\n",
      "2024-09-19 14:06:12,792 INFO MarketData: Loaded tick values for 86 assets.\n",
      "2024-09-19 14:06:12,792 INFO MarketData: Loading FX rates from G:\\Projects\\BackTesting1.0\\Data\\Bloomberg\\HelperFiles\\fxHist.parquet\n",
      "2024-09-19 14:06:12,793 INFO MarketData: Loaded FX rates with shape (11667, 13).\n",
      "2024-09-19 14:06:12,794 INFO MarketData: Loading all asset data from G:\\Projects\\BackTesting1.0\\Data\\Bloomberg\\Futures\n",
      "2024-09-19 14:06:12,795 INFO MarketData: Found 16 asset class directories.\n",
      "2024-09-19 14:06:12,797 INFO MarketData: Found 86 asset Parquet files to load.\n",
      "2024-09-19 14:06:12,824 INFO MarketData: Successfully loaded data for 86 tickers across 16 asset classes.\n",
      "2024-09-19 14:06:12,824 INFO MarketData: Correcting bad OHLC data.\n",
      "2024-09-19 14:06:12,836 INFO MarketData: Adding Tick_Value_USD to asset data.\n",
      "2024-09-19 14:06:12,837 INFO MarketData: Processing ticker: HG1 Comdty\n",
      "2024-09-19 14:06:12,839 INFO MarketData: Processing ticker: LA1 Comdty\n",
      "2024-09-19 14:06:12,840 INFO MarketData: Processing ticker: LN1 Comdty\n",
      "2024-09-19 14:06:12,842 INFO MarketData: Processing ticker: LP1 Comdty\n",
      "2024-09-19 14:06:12,844 INFO MarketData: Processing ticker: SCO1 Comdty\n",
      "2024-09-19 14:06:12,845 INFO MarketData: Processing ticker: CL1 Comdty\n",
      "2024-09-19 14:06:12,847 INFO MarketData: Processing ticker: CO1 Comdty\n",
      "2024-09-19 14:06:12,848 INFO MarketData: Processing ticker: HO1 Comdty\n",
      "2024-09-19 14:06:12,849 INFO MarketData: Processing ticker: MO1 Comdty\n",
      "2024-09-19 14:06:12,850 INFO MarketData: Processing ticker: NG1 Comdty\n",
      "2024-09-19 14:06:12,851 INFO MarketData: Processing ticker: QS1 Comdty\n",
      "2024-09-19 14:06:12,853 INFO MarketData: Processing ticker: TZT2 Comdty\n",
      "2024-09-19 14:06:12,854 INFO MarketData: Processing ticker: XB1 Comdty\n",
      "2024-09-19 14:06:12,855 INFO MarketData: Processing ticker: GC1 Comdty\n",
      "2024-09-19 14:06:12,857 INFO MarketData: Processing ticker: PL1 Comdty\n",
      "2024-09-19 14:06:12,858 INFO MarketData: Processing ticker: SI1 Comdty\n",
      "2024-09-19 14:06:12,859 INFO MarketData: Processing ticker: BO1 Comdty\n",
      "2024-09-19 14:06:12,860 INFO MarketData: Processing ticker: C 1 Comdty\n",
      "2024-09-19 14:06:12,862 INFO MarketData: Processing ticker: CA1 Comdty\n",
      "2024-09-19 14:06:12,864 INFO MarketData: Processing ticker: FC1 Comdty\n",
      "2024-09-19 14:06:12,865 INFO MarketData: Processing ticker: KC1 Comdty\n",
      "2024-09-19 14:06:12,867 INFO MarketData: Processing ticker: QC1 Comdty\n",
      "2024-09-19 14:06:12,868 INFO MarketData: Processing ticker: QW1 Comdty\n",
      "2024-09-19 14:06:12,869 INFO MarketData: Processing ticker: RR1 Comdty\n",
      "2024-09-19 14:06:12,871 INFO MarketData: Processing ticker: RS1 Comdty\n",
      "2024-09-19 14:06:12,872 INFO MarketData: Processing ticker: S 1 Comdty\n",
      "2024-09-19 14:06:12,873 INFO MarketData: Processing ticker: SB1 Comdty\n",
      "2024-09-19 14:06:12,875 INFO MarketData: Processing ticker: SM1 Comdty\n",
      "2024-09-19 14:06:12,876 INFO MarketData: Processing ticker: W 1 Comdty\n",
      "2024-09-19 14:06:12,877 INFO MarketData: Processing ticker: YW1 Comdty\n",
      "2024-09-19 14:06:12,878 INFO MarketData: Processing ticker: BTC1 Curncy\n",
      "2024-09-19 14:06:12,880 INFO MarketData: Processing ticker: DCR1 Curncy\n",
      "2024-09-19 14:06:12,881 INFO MarketData: Processing ticker: NK1 Index\n",
      "2024-09-19 14:06:12,883 INFO MarketData: Processing ticker: TP1 Index\n",
      "2024-09-19 14:06:12,884 INFO MarketData: Processing ticker: XP1 Index\n",
      "2024-09-19 14:06:12,885 INFO MarketData: Processing ticker: ASD3 Index\n",
      "2024-09-19 14:06:12,886 INFO MarketData: Processing ticker: DBE3 Index\n",
      "2024-09-19 14:06:12,888 INFO MarketData: Processing ticker: DED3 Index\n",
      "2024-09-19 14:06:12,889 INFO MarketData: Processing ticker: MND3 Index\n",
      "2024-09-19 14:06:12,890 INFO MarketData: Processing ticker: HC1 Index\n",
      "2024-09-19 14:06:12,891 INFO MarketData: Processing ticker: KM1 Index\n",
      "2024-09-19 14:06:12,893 INFO MarketData: Processing ticker: MES1 Index\n",
      "2024-09-19 14:06:12,894 INFO MarketData: Processing ticker: XB1 Index\n",
      "2024-09-19 14:06:12,895 INFO MarketData: Processing ticker: XU1 Index\n",
      "2024-09-19 14:06:12,896 INFO MarketData: Processing ticker: CA1 Index\n",
      "2024-09-19 14:06:12,898 INFO MarketData: Processing ticker: GX1 Index\n",
      "2024-09-19 14:06:12,899 INFO MarketData: Processing ticker: VG1 Index\n",
      "2024-09-19 14:06:12,900 INFO MarketData: Processing ticker: Z 1 Index\n",
      "2024-09-19 14:06:12,901 INFO MarketData: Processing ticker: DM1 Index\n",
      "2024-09-19 14:06:12,902 INFO MarketData: Processing ticker: ES1 Index\n",
      "2024-09-19 14:06:12,904 INFO MarketData: Processing ticker: NQ1 Index\n",
      "2024-09-19 14:06:12,905 INFO MarketData: Processing ticker: RTY1 Index\n",
      "2024-09-19 14:06:12,906 INFO MarketData: Processing ticker: FVS2 Index\n",
      "2024-09-19 14:06:12,907 INFO MarketData: Processing ticker: UX2 Index\n",
      "2024-09-19 14:06:12,909 INFO MarketData: Processing ticker: JB1 Comdty\n",
      "2024-09-19 14:06:12,911 INFO MarketData: Processing ticker: BTS1 Comdty\n",
      "2024-09-19 14:06:12,912 INFO MarketData: Processing ticker: DU1 Comdty\n",
      "2024-09-19 14:06:12,913 INFO MarketData: Processing ticker: G 1 Comdty\n",
      "2024-09-19 14:06:12,914 INFO MarketData: Processing ticker: IK1 Comdty\n",
      "2024-09-19 14:06:12,915 INFO MarketData: Processing ticker: OAT1 Comdty\n",
      "2024-09-19 14:06:12,916 INFO MarketData: Processing ticker: OE1 Comdty\n",
      "2024-09-19 14:06:12,917 INFO MarketData: Processing ticker: RX1 Comdty\n",
      "2024-09-19 14:06:12,919 INFO MarketData: Processing ticker: UB1 Comdty\n",
      "2024-09-19 14:06:12,920 INFO MarketData: Processing ticker: CN1 Comdty\n",
      "2024-09-19 14:06:12,921 INFO MarketData: Processing ticker: FV1 Comdty\n",
      "2024-09-19 14:06:12,922 INFO MarketData: Processing ticker: TU1 Comdty\n",
      "2024-09-19 14:06:12,923 INFO MarketData: Processing ticker: TY1 Comdty\n",
      "2024-09-19 14:06:12,925 INFO MarketData: Processing ticker: US1 Comdty\n",
      "2024-09-19 14:06:12,927 INFO MarketData: Processing ticker: WN1 Comdty\n",
      "2024-09-19 14:06:12,928 INFO MarketData: Processing ticker: AD1 Curncy\n",
      "2024-09-19 14:06:12,929 INFO MarketData: Processing ticker: BP1 Curncy\n",
      "2024-09-19 14:06:12,931 INFO MarketData: Processing ticker: CD1 Curncy\n",
      "2024-09-19 14:06:12,932 INFO MarketData: Processing ticker: DX1 Curncy\n",
      "2024-09-19 14:06:12,933 INFO MarketData: Processing ticker: EC1 Curncy\n",
      "2024-09-19 14:06:12,934 INFO MarketData: Processing ticker: JY1 Curncy\n",
      "2024-09-19 14:06:12,935 INFO MarketData: Processing ticker: KO1 Curncy\n",
      "2024-09-19 14:06:12,936 INFO MarketData: Processing ticker: NV1 Curncy\n",
      "2024-09-19 14:06:12,938 INFO MarketData: Processing ticker: PE1 Curncy\n",
      "2024-09-19 14:06:12,939 INFO MarketData: Processing ticker: SF1 Curncy\n",
      "2024-09-19 14:06:12,940 INFO MarketData: Processing ticker: XID1 Curncy\n",
      "2024-09-19 14:06:12,941 INFO MarketData: Processing ticker: XUC1 Curncy\n",
      "2024-09-19 14:06:12,943 INFO MarketData: Processing ticker: ER6 Comdty\n",
      "2024-09-19 14:06:12,945 INFO MarketData: Processing ticker: IR6 Comdty\n",
      "2024-09-19 14:06:12,946 INFO MarketData: Processing ticker: SFI6 Comdty\n",
      "2024-09-19 14:06:12,947 INFO MarketData: Processing ticker: SFR8 Comdty\n",
      "2024-09-19 14:06:12,949 INFO MarketData: Processing ticker: SSY4 Comdty\n"
     ]
    },
    {
     "data": {
      "application/javascript": "(function(root) {\n  function now() {\n    return new Date();\n  }\n\n  var force = true;\n  var py_version = '3.4.1'.replace('rc', '-rc.').replace('.dev', '-dev.');\n  var reloading = false;\n  var Bokeh = root.Bokeh;\n\n  if (typeof (root._bokeh_timeout) === \"undefined\" || force) {\n    root._bokeh_timeout = Date.now() + 5000;\n    root._bokeh_failed_load = false;\n  }\n\n  function run_callbacks() {\n    try {\n      root._bokeh_onload_callbacks.forEach(function(callback) {\n        if (callback != null)\n          callback();\n      });\n    } finally {\n      delete root._bokeh_onload_callbacks;\n    }\n    console.debug(\"Bokeh: all callbacks have finished\");\n  }\n\n  function load_libs(css_urls, js_urls, js_modules, js_exports, callback) {\n    if (css_urls == null) css_urls = [];\n    if (js_urls == null) js_urls = [];\n    if (js_modules == null) js_modules = [];\n    if (js_exports == null) js_exports = {};\n\n    root._bokeh_onload_callbacks.push(callback);\n\n    if (root._bokeh_is_loading > 0) {\n      console.debug(\"Bokeh: BokehJS is being loaded, scheduling callback at\", now());\n      return null;\n    }\n    if (js_urls.length === 0 && js_modules.length === 0 && Object.keys(js_exports).length === 0) {\n      run_callbacks();\n      return null;\n    }\n    if (!reloading) {\n      console.debug(\"Bokeh: BokehJS not loaded, scheduling load and callback at\", now());\n    }\n\n    function on_load() {\n      root._bokeh_is_loading--;\n      if (root._bokeh_is_loading === 0) {\n        console.debug(\"Bokeh: all BokehJS libraries/stylesheets loaded\");\n        run_callbacks()\n      }\n    }\n    window._bokeh_on_load = on_load\n\n    function on_error() {\n      console.error(\"failed to load \" + url);\n    }\n\n    var skip = [];\n    if (window.requirejs) {\n      window.requirejs.config({'packages': {}, 'paths': {}, 'shim': {}});\n      root._bokeh_is_loading = css_urls.length + 0;\n    } else {\n      root._bokeh_is_loading = css_urls.length + js_urls.length + js_modules.length + Object.keys(js_exports).length;\n    }\n\n    var existing_stylesheets = []\n    var links = document.getElementsByTagName('link')\n    for (var i = 0; i < links.length; i++) {\n      var link = links[i]\n      if (link.href != null) {\n\texisting_stylesheets.push(link.href)\n      }\n    }\n    for (var i = 0; i < css_urls.length; i++) {\n      var url = css_urls[i];\n      if (existing_stylesheets.indexOf(url) !== -1) {\n\ton_load()\n\tcontinue;\n      }\n      const element = document.createElement(\"link\");\n      element.onload = on_load;\n      element.onerror = on_error;\n      element.rel = \"stylesheet\";\n      element.type = \"text/css\";\n      element.href = url;\n      console.debug(\"Bokeh: injecting link tag for BokehJS stylesheet: \", url);\n      document.body.appendChild(element);\n    }    var existing_scripts = []\n    var scripts = document.getElementsByTagName('script')\n    for (var i = 0; i < scripts.length; i++) {\n      var script = scripts[i]\n      if (script.src != null) {\n\texisting_scripts.push(script.src)\n      }\n    }\n    for (var i = 0; i < js_urls.length; i++) {\n      var url = js_urls[i];\n      if (skip.indexOf(url) !== -1 || existing_scripts.indexOf(url) !== -1) {\n\tif (!window.requirejs) {\n\t  on_load();\n\t}\n\tcontinue;\n      }\n      var element = document.createElement('script');\n      element.onload = on_load;\n      element.onerror = on_error;\n      element.async = false;\n      element.src = url;\n      console.debug(\"Bokeh: injecting script tag for BokehJS library: \", url);\n      document.head.appendChild(element);\n    }\n    for (var i = 0; i < js_modules.length; i++) {\n      var url = js_modules[i];\n      if (skip.indexOf(url) !== -1 || existing_scripts.indexOf(url) !== -1) {\n\tif (!window.requirejs) {\n\t  on_load();\n\t}\n\tcontinue;\n      }\n      var element = document.createElement('script');\n      element.onload = on_load;\n      element.onerror = on_error;\n      element.async = false;\n      element.src = url;\n      element.type = \"module\";\n      console.debug(\"Bokeh: injecting script tag for BokehJS library: \", url);\n      document.head.appendChild(element);\n    }\n    for (const name in js_exports) {\n      var url = js_exports[name];\n      if (skip.indexOf(url) >= 0 || root[name] != null) {\n\tif (!window.requirejs) {\n\t  on_load();\n\t}\n\tcontinue;\n      }\n      var element = document.createElement('script');\n      element.onerror = on_error;\n      element.async = false;\n      element.type = \"module\";\n      console.debug(\"Bokeh: injecting script tag for BokehJS library: \", url);\n      element.textContent = `\n      import ${name} from \"${url}\"\n      window.${name} = ${name}\n      window._bokeh_on_load()\n      `\n      document.head.appendChild(element);\n    }\n    if (!js_urls.length && !js_modules.length) {\n      on_load()\n    }\n  };\n\n  function inject_raw_css(css) {\n    const element = document.createElement(\"style\");\n    element.appendChild(document.createTextNode(css));\n    document.body.appendChild(element);\n  }\n\n  var js_urls = [\"https://cdn.bokeh.org/bokeh/release/bokeh-3.4.1.min.js\", \"https://cdn.bokeh.org/bokeh/release/bokeh-gl-3.4.1.min.js\", \"https://cdn.bokeh.org/bokeh/release/bokeh-widgets-3.4.1.min.js\", \"https://cdn.bokeh.org/bokeh/release/bokeh-tables-3.4.1.min.js\", \"https://cdn.holoviz.org/panel/1.4.4/dist/panel.min.js\"];\n  var js_modules = [];\n  var js_exports = {};\n  var css_urls = [];\n  var inline_js = [    function(Bokeh) {\n      Bokeh.set_log_level(\"info\");\n    },\nfunction(Bokeh) {} // ensure no trailing comma for IE\n  ];\n\n  function run_inline_js() {\n    if ((root.Bokeh !== undefined) || (force === true)) {\n      for (var i = 0; i < inline_js.length; i++) {\n\ttry {\n          inline_js[i].call(root, root.Bokeh);\n\t} catch(e) {\n\t  if (!reloading) {\n\t    throw e;\n\t  }\n\t}\n      }\n      // Cache old bokeh versions\n      if (Bokeh != undefined && !reloading) {\n\tvar NewBokeh = root.Bokeh;\n\tif (Bokeh.versions === undefined) {\n\t  Bokeh.versions = new Map();\n\t}\n\tif (NewBokeh.version !== Bokeh.version) {\n\t  Bokeh.versions.set(NewBokeh.version, NewBokeh)\n\t}\n\troot.Bokeh = Bokeh;\n      }} else if (Date.now() < root._bokeh_timeout) {\n      setTimeout(run_inline_js, 100);\n    } else if (!root._bokeh_failed_load) {\n      console.log(\"Bokeh: BokehJS failed to load within specified timeout.\");\n      root._bokeh_failed_load = true;\n    }\n    root._bokeh_is_initializing = false\n  }\n\n  function load_or_wait() {\n    // Implement a backoff loop that tries to ensure we do not load multiple\n    // versions of Bokeh and its dependencies at the same time.\n    // In recent versions we use the root._bokeh_is_initializing flag\n    // to determine whether there is an ongoing attempt to initialize\n    // bokeh, however for backward compatibility we also try to ensure\n    // that we do not start loading a newer (Panel>=1.0 and Bokeh>3) version\n    // before older versions are fully initialized.\n    if (root._bokeh_is_initializing && Date.now() > root._bokeh_timeout) {\n      root._bokeh_is_initializing = false;\n      root._bokeh_onload_callbacks = undefined;\n      console.log(\"Bokeh: BokehJS was loaded multiple times but one version failed to initialize.\");\n      load_or_wait();\n    } else if (root._bokeh_is_initializing || (typeof root._bokeh_is_initializing === \"undefined\" && root._bokeh_onload_callbacks !== undefined)) {\n      setTimeout(load_or_wait, 100);\n    } else {\n      root._bokeh_is_initializing = true\n      root._bokeh_onload_callbacks = []\n      var bokeh_loaded = Bokeh != null && (Bokeh.version === py_version || (Bokeh.versions !== undefined && Bokeh.versions.has(py_version)));\n      if (!reloading && !bokeh_loaded) {\n\troot.Bokeh = undefined;\n      }\n      load_libs(css_urls, js_urls, js_modules, js_exports, function() {\n\tconsole.debug(\"Bokeh: BokehJS plotting callback run at\", now());\n\trun_inline_js();\n      });\n    }\n  }\n  // Give older versions of the autoload script a head-start to ensure\n  // they initialize before we start loading newer version.\n  setTimeout(load_or_wait, 100)\n}(window));",
      "application/vnd.holoviews_load.v0+json": ""
     },
     "metadata": {},
     "output_type": "display_data"
    },
    {
     "data": {
      "application/javascript": "\nif ((window.PyViz === undefined) || (window.PyViz instanceof HTMLElement)) {\n  window.PyViz = {comms: {}, comm_status:{}, kernels:{}, receivers: {}, plot_index: []}\n}\n\n\n    function JupyterCommManager() {\n    }\n\n    JupyterCommManager.prototype.register_target = function(plot_id, comm_id, msg_handler) {\n      if (window.comm_manager || ((window.Jupyter !== undefined) && (Jupyter.notebook.kernel != null))) {\n        var comm_manager = window.comm_manager || Jupyter.notebook.kernel.comm_manager;\n        comm_manager.register_target(comm_id, function(comm) {\n          comm.on_msg(msg_handler);\n        });\n      } else if ((plot_id in window.PyViz.kernels) && (window.PyViz.kernels[plot_id])) {\n        window.PyViz.kernels[plot_id].registerCommTarget(comm_id, function(comm) {\n          comm.onMsg = msg_handler;\n        });\n      } else if (typeof google != 'undefined' && google.colab.kernel != null) {\n        google.colab.kernel.comms.registerTarget(comm_id, (comm) => {\n          var messages = comm.messages[Symbol.asyncIterator]();\n          function processIteratorResult(result) {\n            var message = result.value;\n            console.log(message)\n            var content = {data: message.data, comm_id};\n            var buffers = []\n            for (var buffer of message.buffers || []) {\n              buffers.push(new DataView(buffer))\n            }\n            var metadata = message.metadata || {};\n            var msg = {content, buffers, metadata}\n            msg_handler(msg);\n            return messages.next().then(processIteratorResult);\n          }\n          return messages.next().then(processIteratorResult);\n        })\n      }\n    }\n\n    JupyterCommManager.prototype.get_client_comm = function(plot_id, comm_id, msg_handler) {\n      if (comm_id in window.PyViz.comms) {\n        return window.PyViz.comms[comm_id];\n      } else if (window.comm_manager || ((window.Jupyter !== undefined) && (Jupyter.notebook.kernel != null))) {\n        var comm_manager = window.comm_manager || Jupyter.notebook.kernel.comm_manager;\n        var comm = comm_manager.new_comm(comm_id, {}, {}, {}, comm_id);\n        if (msg_handler) {\n          comm.on_msg(msg_handler);\n        }\n      } else if ((plot_id in window.PyViz.kernels) && (window.PyViz.kernels[plot_id])) {\n        var comm = window.PyViz.kernels[plot_id].connectToComm(comm_id);\n        comm.open();\n        if (msg_handler) {\n          comm.onMsg = msg_handler;\n        }\n      } else if (typeof google != 'undefined' && google.colab.kernel != null) {\n        var comm_promise = google.colab.kernel.comms.open(comm_id)\n        comm_promise.then((comm) => {\n          window.PyViz.comms[comm_id] = comm;\n          if (msg_handler) {\n            var messages = comm.messages[Symbol.asyncIterator]();\n            function processIteratorResult(result) {\n              var message = result.value;\n              var content = {data: message.data};\n              var metadata = message.metadata || {comm_id};\n              var msg = {content, metadata}\n              msg_handler(msg);\n              return messages.next().then(processIteratorResult);\n            }\n            return messages.next().then(processIteratorResult);\n          }\n        }) \n        var sendClosure = (data, metadata, buffers, disposeOnDone) => {\n          return comm_promise.then((comm) => {\n            comm.send(data, metadata, buffers, disposeOnDone);\n          });\n        };\n        var comm = {\n          send: sendClosure\n        };\n      }\n      window.PyViz.comms[comm_id] = comm;\n      return comm;\n    }\n    window.PyViz.comm_manager = new JupyterCommManager();\n    \n\n\nvar JS_MIME_TYPE = 'application/javascript';\nvar HTML_MIME_TYPE = 'text/html';\nvar EXEC_MIME_TYPE = 'application/vnd.holoviews_exec.v0+json';\nvar CLASS_NAME = 'output';\n\n/**\n * Render data to the DOM node\n */\nfunction render(props, node) {\n  var div = document.createElement(\"div\");\n  var script = document.createElement(\"script\");\n  node.appendChild(div);\n  node.appendChild(script);\n}\n\n/**\n * Handle when a new output is added\n */\nfunction handle_add_output(event, handle) {\n  var output_area = handle.output_area;\n  var output = handle.output;\n  if ((output.data == undefined) || (!output.data.hasOwnProperty(EXEC_MIME_TYPE))) {\n    return\n  }\n  var id = output.metadata[EXEC_MIME_TYPE][\"id\"];\n  var toinsert = output_area.element.find(\".\" + CLASS_NAME.split(' ')[0]);\n  if (id !== undefined) {\n    var nchildren = toinsert.length;\n    var html_node = toinsert[nchildren-1].children[0];\n    html_node.innerHTML = output.data[HTML_MIME_TYPE];\n    var scripts = [];\n    var nodelist = html_node.querySelectorAll(\"script\");\n    for (var i in nodelist) {\n      if (nodelist.hasOwnProperty(i)) {\n        scripts.push(nodelist[i])\n      }\n    }\n\n    scripts.forEach( function (oldScript) {\n      var newScript = document.createElement(\"script\");\n      var attrs = [];\n      var nodemap = oldScript.attributes;\n      for (var j in nodemap) {\n        if (nodemap.hasOwnProperty(j)) {\n          attrs.push(nodemap[j])\n        }\n      }\n      attrs.forEach(function(attr) { newScript.setAttribute(attr.name, attr.value) });\n      newScript.appendChild(document.createTextNode(oldScript.innerHTML));\n      oldScript.parentNode.replaceChild(newScript, oldScript);\n    });\n    if (JS_MIME_TYPE in output.data) {\n      toinsert[nchildren-1].children[1].textContent = output.data[JS_MIME_TYPE];\n    }\n    output_area._hv_plot_id = id;\n    if ((window.Bokeh !== undefined) && (id in Bokeh.index)) {\n      window.PyViz.plot_index[id] = Bokeh.index[id];\n    } else {\n      window.PyViz.plot_index[id] = null;\n    }\n  } else if (output.metadata[EXEC_MIME_TYPE][\"server_id\"] !== undefined) {\n    var bk_div = document.createElement(\"div\");\n    bk_div.innerHTML = output.data[HTML_MIME_TYPE];\n    var script_attrs = bk_div.children[0].attributes;\n    for (var i = 0; i < script_attrs.length; i++) {\n      toinsert[toinsert.length - 1].childNodes[1].setAttribute(script_attrs[i].name, script_attrs[i].value);\n    }\n    // store reference to server id on output_area\n    output_area._bokeh_server_id = output.metadata[EXEC_MIME_TYPE][\"server_id\"];\n  }\n}\n\n/**\n * Handle when an output is cleared or removed\n */\nfunction handle_clear_output(event, handle) {\n  var id = handle.cell.output_area._hv_plot_id;\n  var server_id = handle.cell.output_area._bokeh_server_id;\n  if (((id === undefined) || !(id in PyViz.plot_index)) && (server_id !== undefined)) { return; }\n  var comm = window.PyViz.comm_manager.get_client_comm(\"hv-extension-comm\", \"hv-extension-comm\", function () {});\n  if (server_id !== null) {\n    comm.send({event_type: 'server_delete', 'id': server_id});\n    return;\n  } else if (comm !== null) {\n    comm.send({event_type: 'delete', 'id': id});\n  }\n  delete PyViz.plot_index[id];\n  if ((window.Bokeh !== undefined) & (id in window.Bokeh.index)) {\n    var doc = window.Bokeh.index[id].model.document\n    doc.clear();\n    const i = window.Bokeh.documents.indexOf(doc);\n    if (i > -1) {\n      window.Bokeh.documents.splice(i, 1);\n    }\n  }\n}\n\n/**\n * Handle kernel restart event\n */\nfunction handle_kernel_cleanup(event, handle) {\n  delete PyViz.comms[\"hv-extension-comm\"];\n  window.PyViz.plot_index = {}\n}\n\n/**\n * Handle update_display_data messages\n */\nfunction handle_update_output(event, handle) {\n  handle_clear_output(event, {cell: {output_area: handle.output_area}})\n  handle_add_output(event, handle)\n}\n\nfunction register_renderer(events, OutputArea) {\n  function append_mime(data, metadata, element) {\n    // create a DOM node to render to\n    var toinsert = this.create_output_subarea(\n    metadata,\n    CLASS_NAME,\n    EXEC_MIME_TYPE\n    );\n    this.keyboard_manager.register_events(toinsert);\n    // Render to node\n    var props = {data: data, metadata: metadata[EXEC_MIME_TYPE]};\n    render(props, toinsert[0]);\n    element.append(toinsert);\n    return toinsert\n  }\n\n  events.on('output_added.OutputArea', handle_add_output);\n  events.on('output_updated.OutputArea', handle_update_output);\n  events.on('clear_output.CodeCell', handle_clear_output);\n  events.on('delete.Cell', handle_clear_output);\n  events.on('kernel_ready.Kernel', handle_kernel_cleanup);\n\n  OutputArea.prototype.register_mime_type(EXEC_MIME_TYPE, append_mime, {\n    safe: true,\n    index: 0\n  });\n}\n\nif (window.Jupyter !== undefined) {\n  try {\n    var events = require('base/js/events');\n    var OutputArea = require('notebook/js/outputarea').OutputArea;\n    if (OutputArea.prototype.mime_types().indexOf(EXEC_MIME_TYPE) == -1) {\n      register_renderer(events, OutputArea);\n    }\n  } catch(err) {\n  }\n}\n",
      "application/vnd.holoviews_load.v0+json": ""
     },
     "metadata": {},
     "output_type": "display_data"
    },
    {
     "data": {
      "text/html": [
       "<style>*[data-root-id],\n",
       "*[data-root-id] > * {\n",
       "  box-sizing: border-box;\n",
       "  font-family: var(--jp-ui-font-family);\n",
       "  font-size: var(--jp-ui-font-size1);\n",
       "  color: var(--vscode-editor-foreground, var(--jp-ui-font-color1));\n",
       "}\n",
       "\n",
       "/* Override VSCode background color */\n",
       ".cell-output-ipywidget-background:has(\n",
       "    > .cell-output-ipywidget-background > .lm-Widget > *[data-root-id]\n",
       "  ),\n",
       ".cell-output-ipywidget-background:has(> .lm-Widget > *[data-root-id]) {\n",
       "  background-color: transparent !important;\n",
       "}\n",
       "</style>"
      ]
     },
     "metadata": {},
     "output_type": "display_data"
    },
    {
     "data": {
      "application/vnd.holoviews_exec.v0+json": "",
      "text/html": [
       "<div id='p1002'>\n",
       "  <div id=\"fa1ddc60-e557-45cd-820e-88b15ecaf26d\" data-root-id=\"p1002\" style=\"display: contents;\"></div>\n",
       "</div>\n",
       "<script type=\"application/javascript\">(function(root) {\n",
       "  var docs_json = {\"9f2d391e-5b8b-4247-8cc0-10a479af3b92\":{\"version\":\"3.4.1\",\"title\":\"Bokeh Application\",\"roots\":[{\"type\":\"object\",\"name\":\"panel.models.browser.BrowserInfo\",\"id\":\"p1002\"},{\"type\":\"object\",\"name\":\"panel.models.comm_manager.CommManager\",\"id\":\"p1003\",\"attributes\":{\"plot_id\":\"p1002\",\"comm_id\":\"40902396617d4b25847e439be096a623\",\"client_comm_id\":\"6d0da41ddfbe49aa8448a84df669670a\"}}],\"defs\":[{\"type\":\"model\",\"name\":\"ReactiveHTML1\"},{\"type\":\"model\",\"name\":\"FlexBox1\",\"properties\":[{\"name\":\"align_content\",\"kind\":\"Any\",\"default\":\"flex-start\"},{\"name\":\"align_items\",\"kind\":\"Any\",\"default\":\"flex-start\"},{\"name\":\"flex_direction\",\"kind\":\"Any\",\"default\":\"row\"},{\"name\":\"flex_wrap\",\"kind\":\"Any\",\"default\":\"wrap\"},{\"name\":\"gap\",\"kind\":\"Any\",\"default\":\"\"},{\"name\":\"justify_content\",\"kind\":\"Any\",\"default\":\"flex-start\"}]},{\"type\":\"model\",\"name\":\"FloatPanel1\",\"properties\":[{\"name\":\"config\",\"kind\":\"Any\",\"default\":{\"type\":\"map\"}},{\"name\":\"contained\",\"kind\":\"Any\",\"default\":true},{\"name\":\"position\",\"kind\":\"Any\",\"default\":\"right-top\"},{\"name\":\"offsetx\",\"kind\":\"Any\",\"default\":null},{\"name\":\"offsety\",\"kind\":\"Any\",\"default\":null},{\"name\":\"theme\",\"kind\":\"Any\",\"default\":\"primary\"},{\"name\":\"status\",\"kind\":\"Any\",\"default\":\"normalized\"}]},{\"type\":\"model\",\"name\":\"GridStack1\",\"properties\":[{\"name\":\"mode\",\"kind\":\"Any\",\"default\":\"warn\"},{\"name\":\"ncols\",\"kind\":\"Any\",\"default\":null},{\"name\":\"nrows\",\"kind\":\"Any\",\"default\":null},{\"name\":\"allow_resize\",\"kind\":\"Any\",\"default\":true},{\"name\":\"allow_drag\",\"kind\":\"Any\",\"default\":true},{\"name\":\"state\",\"kind\":\"Any\",\"default\":[]}]},{\"type\":\"model\",\"name\":\"drag1\",\"properties\":[{\"name\":\"slider_width\",\"kind\":\"Any\",\"default\":5},{\"name\":\"slider_color\",\"kind\":\"Any\",\"default\":\"black\"},{\"name\":\"value\",\"kind\":\"Any\",\"default\":50}]},{\"type\":\"model\",\"name\":\"click1\",\"properties\":[{\"name\":\"terminal_output\",\"kind\":\"Any\",\"default\":\"\"},{\"name\":\"debug_name\",\"kind\":\"Any\",\"default\":\"\"},{\"name\":\"clears\",\"kind\":\"Any\",\"default\":0}]},{\"type\":\"model\",\"name\":\"FastWrapper1\",\"properties\":[{\"name\":\"object\",\"kind\":\"Any\",\"default\":null},{\"name\":\"style\",\"kind\":\"Any\",\"default\":null}]},{\"type\":\"model\",\"name\":\"NotificationAreaBase1\",\"properties\":[{\"name\":\"js_events\",\"kind\":\"Any\",\"default\":{\"type\":\"map\"}},{\"name\":\"position\",\"kind\":\"Any\",\"default\":\"bottom-right\"},{\"name\":\"_clear\",\"kind\":\"Any\",\"default\":0}]},{\"type\":\"model\",\"name\":\"NotificationArea1\",\"properties\":[{\"name\":\"js_events\",\"kind\":\"Any\",\"default\":{\"type\":\"map\"}},{\"name\":\"notifications\",\"kind\":\"Any\",\"default\":[]},{\"name\":\"position\",\"kind\":\"Any\",\"default\":\"bottom-right\"},{\"name\":\"_clear\",\"kind\":\"Any\",\"default\":0},{\"name\":\"types\",\"kind\":\"Any\",\"default\":[{\"type\":\"map\",\"entries\":[[\"type\",\"warning\"],[\"background\",\"#ffc107\"],[\"icon\",{\"type\":\"map\",\"entries\":[[\"className\",\"fas fa-exclamation-triangle\"],[\"tagName\",\"i\"],[\"color\",\"white\"]]}]]},{\"type\":\"map\",\"entries\":[[\"type\",\"info\"],[\"background\",\"#007bff\"],[\"icon\",{\"type\":\"map\",\"entries\":[[\"className\",\"fas fa-info-circle\"],[\"tagName\",\"i\"],[\"color\",\"white\"]]}]]}]}]},{\"type\":\"model\",\"name\":\"Notification\",\"properties\":[{\"name\":\"background\",\"kind\":\"Any\",\"default\":null},{\"name\":\"duration\",\"kind\":\"Any\",\"default\":3000},{\"name\":\"icon\",\"kind\":\"Any\",\"default\":null},{\"name\":\"message\",\"kind\":\"Any\",\"default\":\"\"},{\"name\":\"notification_type\",\"kind\":\"Any\",\"default\":null},{\"name\":\"_destroyed\",\"kind\":\"Any\",\"default\":false}]},{\"type\":\"model\",\"name\":\"TemplateActions1\",\"properties\":[{\"name\":\"open_modal\",\"kind\":\"Any\",\"default\":0},{\"name\":\"close_modal\",\"kind\":\"Any\",\"default\":0}]},{\"type\":\"model\",\"name\":\"BootstrapTemplateActions1\",\"properties\":[{\"name\":\"open_modal\",\"kind\":\"Any\",\"default\":0},{\"name\":\"close_modal\",\"kind\":\"Any\",\"default\":0}]},{\"type\":\"model\",\"name\":\"TemplateEditor1\",\"properties\":[{\"name\":\"layout\",\"kind\":\"Any\",\"default\":[]}]},{\"type\":\"model\",\"name\":\"MaterialTemplateActions1\",\"properties\":[{\"name\":\"open_modal\",\"kind\":\"Any\",\"default\":0},{\"name\":\"close_modal\",\"kind\":\"Any\",\"default\":0}]},{\"type\":\"model\",\"name\":\"copy_to_clipboard1\",\"properties\":[{\"name\":\"fill\",\"kind\":\"Any\",\"default\":\"none\"},{\"name\":\"value\",\"kind\":\"Any\",\"default\":null}]}]}};\n",
       "  var render_items = [{\"docid\":\"9f2d391e-5b8b-4247-8cc0-10a479af3b92\",\"roots\":{\"p1002\":\"fa1ddc60-e557-45cd-820e-88b15ecaf26d\"},\"root_ids\":[\"p1002\"]}];\n",
       "  var docs = Object.values(docs_json)\n",
       "  if (!docs) {\n",
       "    return\n",
       "  }\n",
       "  const py_version = docs[0].version.replace('rc', '-rc.').replace('.dev', '-dev.')\n",
       "  async function embed_document(root) {\n",
       "    var Bokeh = get_bokeh(root)\n",
       "    await Bokeh.embed.embed_items_notebook(docs_json, render_items);\n",
       "    for (const render_item of render_items) {\n",
       "      for (const root_id of render_item.root_ids) {\n",
       "\tconst id_el = document.getElementById(root_id)\n",
       "\tif (id_el.children.length && id_el.children[0].hasAttribute('data-root-id')) {\n",
       "\t  const root_el = id_el.children[0]\n",
       "\t  root_el.id = root_el.id + '-rendered'\n",
       "\t  for (const child of root_el.children) {\n",
       "            // Ensure JupyterLab does not capture keyboard shortcuts\n",
       "            // see: https://jupyterlab.readthedocs.io/en/4.1.x/extension/notebook.html#keyboard-interaction-model\n",
       "\t    child.setAttribute('data-lm-suppress-shortcuts', 'true')\n",
       "\t  }\n",
       "\t}\n",
       "      }\n",
       "    }\n",
       "  }\n",
       "  function get_bokeh(root) {\n",
       "    if (root.Bokeh === undefined) {\n",
       "      return null\n",
       "    } else if (root.Bokeh.version !== py_version) {\n",
       "      if (root.Bokeh.versions === undefined || !root.Bokeh.versions.has(py_version)) {\n",
       "\treturn null\n",
       "      }\n",
       "      return root.Bokeh.versions.get(py_version);\n",
       "    } else if (root.Bokeh.version === py_version) {\n",
       "      return root.Bokeh\n",
       "    }\n",
       "    return null\n",
       "  }\n",
       "  function is_loaded(root) {\n",
       "    var Bokeh = get_bokeh(root)\n",
       "    return (Bokeh != null && Bokeh.Panel !== undefined)\n",
       "  }\n",
       "  if (is_loaded(root)) {\n",
       "    embed_document(root);\n",
       "  } else {\n",
       "    var attempts = 0;\n",
       "    var timer = setInterval(function(root) {\n",
       "      if (is_loaded(root)) {\n",
       "        clearInterval(timer);\n",
       "        embed_document(root);\n",
       "      } else if (document.readyState == \"complete\") {\n",
       "        attempts++;\n",
       "        if (attempts > 200) {\n",
       "          clearInterval(timer);\n",
       "\t  var Bokeh = get_bokeh(root)\n",
       "\t  if (Bokeh == null || Bokeh.Panel == null) {\n",
       "            console.warn(\"Panel: ERROR: Unable to run Panel code because Bokeh or Panel library is missing\");\n",
       "\t  } else {\n",
       "\t    console.warn(\"Panel: WARNING: Attempting to render but not all required libraries could be resolved.\")\n",
       "\t    embed_document(root)\n",
       "\t  }\n",
       "        }\n",
       "      }\n",
       "    }, 25, root)\n",
       "  }\n",
       "})(window);</script>"
      ]
     },
     "metadata": {
      "application/vnd.holoviews_exec.v0+json": {
       "id": "p1002"
      }
     },
     "output_type": "display_data"
    },
    {
     "data": {},
     "metadata": {},
     "output_type": "display_data"
    },
    {
     "data": {
      "application/vnd.holoviews_exec.v0+json": "",
      "text/html": [
       "<div id='p1004'>\n",
       "  <div id=\"cf6542cf-7253-4277-b16a-6546213700d3\" data-root-id=\"p1004\" style=\"display: contents;\"></div>\n",
       "</div>\n",
       "<script type=\"application/javascript\">(function(root) {\n",
       "  var docs_json = {\"3e39687b-19a7-4818-8180-bcd9d525144e\":{\"version\":\"3.4.1\",\"title\":\"Bokeh Application\",\"roots\":[{\"type\":\"object\",\"name\":\"Row\",\"id\":\"p1004\",\"attributes\":{\"name\":\"Row00937\",\"tags\":[\"embedded\"],\"stylesheets\":[\"\\n:host(.pn-loading):before, .pn-loading:before {\\n  background-color: #c3c3c3;\\n  mask-size: auto calc(min(50%, 400px));\\n  -webkit-mask-size: auto calc(min(50%, 400px));\\n}\",{\"type\":\"object\",\"name\":\"ImportedStyleSheet\",\"id\":\"p1007\",\"attributes\":{\"url\":\"https://cdn.holoviz.org/panel/1.4.4/dist/css/loading.css\"}},{\"type\":\"object\",\"name\":\"ImportedStyleSheet\",\"id\":\"p1063\",\"attributes\":{\"url\":\"https://cdn.holoviz.org/panel/1.4.4/dist/css/listpanel.css\"}},{\"type\":\"object\",\"name\":\"ImportedStyleSheet\",\"id\":\"p1005\",\"attributes\":{\"url\":\"https://cdn.holoviz.org/panel/1.4.4/dist/bundled/theme/default.css\"}},{\"type\":\"object\",\"name\":\"ImportedStyleSheet\",\"id\":\"p1006\",\"attributes\":{\"url\":\"https://cdn.holoviz.org/panel/1.4.4/dist/bundled/theme/native.css\"}}],\"min_width\":700,\"margin\":0,\"sizing_mode\":\"stretch_width\",\"align\":\"start\",\"children\":[{\"type\":\"object\",\"name\":\"Spacer\",\"id\":\"p1008\",\"attributes\":{\"name\":\"HSpacer00944\",\"stylesheets\":[\"\\n:host(.pn-loading):before, .pn-loading:before {\\n  background-color: #c3c3c3;\\n  mask-size: auto calc(min(50%, 400px));\\n  -webkit-mask-size: auto calc(min(50%, 400px));\\n}\",{\"id\":\"p1007\"},{\"id\":\"p1005\"},{\"id\":\"p1006\"}],\"margin\":0,\"sizing_mode\":\"stretch_width\",\"align\":\"start\"}},{\"type\":\"object\",\"name\":\"Figure\",\"id\":\"p1016\",\"attributes\":{\"width\":700,\"height\":300,\"margin\":[5,10],\"sizing_mode\":\"fixed\",\"align\":\"start\",\"x_range\":{\"type\":\"object\",\"name\":\"Range1d\",\"id\":\"p1009\",\"attributes\":{\"tags\":[[[\"index\",null]],[]],\"end\":6864.0,\"reset_start\":0.0,\"reset_end\":6864.0}},\"y_range\":{\"type\":\"object\",\"name\":\"Range1d\",\"id\":\"p1010\",\"attributes\":{\"tags\":[[[\"Close\",null]],{\"type\":\"map\",\"entries\":[[\"invert_yaxis\",false],[\"autorange\",false]]}],\"start\":338.395,\"end\":6270.055,\"reset_start\":338.395,\"reset_end\":6270.055}},\"x_scale\":{\"type\":\"object\",\"name\":\"LinearScale\",\"id\":\"p1026\"},\"y_scale\":{\"type\":\"object\",\"name\":\"LinearScale\",\"id\":\"p1027\"},\"title\":{\"type\":\"object\",\"name\":\"Title\",\"id\":\"p1019\",\"attributes\":{\"text\":\"Close\",\"text_color\":\"black\",\"text_font_size\":\"12pt\"}},\"renderers\":[{\"type\":\"object\",\"name\":\"GlyphRenderer\",\"id\":\"p1056\",\"attributes\":{\"data_source\":{\"type\":\"object\",\"name\":\"ColumnDataSource\",\"id\":\"p1047\",\"attributes\":{\"selected\":{\"type\":\"object\",\"name\":\"Selection\",\"id\":\"p1048\",\"attributes\":{\"indices\":[],\"line_indices\":[]}},\"selection_policy\":{\"type\":\"object\",\"name\":\"UnionRenderers\",\"id\":\"p1049\"},\"data\":{\"type\":\"map\",\"entries\":[[\"index\",{\"type\":\"ndarray\",\"array\":{\"type\":\"bytes\",\"data\":\"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\"},\"shape\":[6865],\"dtype\":\"int32\",\"order\":\"little\"}],[\"Close\",{\"type\":\"ndarray\",\"array\":{\"type\":\"bytes\",\"data\":\"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\"},\"shape\":[6865],\"dtype\":\"float64\",\"order\":\"little\"}]]}}},\"view\":{\"type\":\"object\",\"name\":\"CDSView\",\"id\":\"p1057\",\"attributes\":{\"filter\":{\"type\":\"object\",\"name\":\"AllIndices\",\"id\":\"p1058\"}}},\"glyph\":{\"type\":\"object\",\"name\":\"Line\",\"id\":\"p1053\",\"attributes\":{\"tags\":[\"apply_ranges\"],\"x\":{\"type\":\"field\",\"field\":\"index\"},\"y\":{\"type\":\"field\",\"field\":\"Close\"},\"line_color\":\"#30a2da\",\"line_width\":2}},\"selection_glyph\":{\"type\":\"object\",\"name\":\"Line\",\"id\":\"p1059\",\"attributes\":{\"tags\":[\"apply_ranges\"],\"x\":{\"type\":\"field\",\"field\":\"index\"},\"y\":{\"type\":\"field\",\"field\":\"Close\"},\"line_color\":\"#30a2da\",\"line_width\":2}},\"nonselection_glyph\":{\"type\":\"object\",\"name\":\"Line\",\"id\":\"p1054\",\"attributes\":{\"tags\":[\"apply_ranges\"],\"x\":{\"type\":\"field\",\"field\":\"index\"},\"y\":{\"type\":\"field\",\"field\":\"Close\"},\"line_color\":\"#30a2da\",\"line_alpha\":0.1,\"line_width\":2}},\"muted_glyph\":{\"type\":\"object\",\"name\":\"Line\",\"id\":\"p1055\",\"attributes\":{\"tags\":[\"apply_ranges\"],\"x\":{\"type\":\"field\",\"field\":\"index\"},\"y\":{\"type\":\"field\",\"field\":\"Close\"},\"line_color\":\"#30a2da\",\"line_alpha\":0.2,\"line_width\":2}}}}],\"toolbar\":{\"type\":\"object\",\"name\":\"Toolbar\",\"id\":\"p1025\",\"attributes\":{\"tools\":[{\"type\":\"object\",\"name\":\"WheelZoomTool\",\"id\":\"p1014\",\"attributes\":{\"tags\":[\"hv_created\"],\"renderers\":\"auto\",\"zoom_together\":\"none\"}},{\"type\":\"object\",\"name\":\"HoverTool\",\"id\":\"p1015\",\"attributes\":{\"tags\":[\"hv_created\"],\"renderers\":[{\"id\":\"p1056\"}],\"tooltips\":[[\"index\",\"@{index}\"],[\"Close\",\"@{Close}\"]]}},{\"type\":\"object\",\"name\":\"SaveTool\",\"id\":\"p1038\"},{\"type\":\"object\",\"name\":\"PanTool\",\"id\":\"p1039\"},{\"type\":\"object\",\"name\":\"BoxZoomTool\",\"id\":\"p1040\",\"attributes\":{\"overlay\":{\"type\":\"object\",\"name\":\"BoxAnnotation\",\"id\":\"p1041\",\"attributes\":{\"syncable\":false,\"level\":\"overlay\",\"visible\":false,\"left\":{\"type\":\"number\",\"value\":\"nan\"},\"right\":{\"type\":\"number\",\"value\":\"nan\"},\"top\":{\"type\":\"number\",\"value\":\"nan\"},\"bottom\":{\"type\":\"number\",\"value\":\"nan\"},\"left_units\":\"canvas\",\"right_units\":\"canvas\",\"top_units\":\"canvas\",\"bottom_units\":\"canvas\",\"line_color\":\"black\",\"line_alpha\":1.0,\"line_width\":2,\"line_dash\":[4,4],\"fill_color\":\"lightgrey\",\"fill_alpha\":0.5}}}},{\"type\":\"object\",\"name\":\"ResetTool\",\"id\":\"p1046\"}],\"active_drag\":{\"id\":\"p1039\"},\"active_scroll\":{\"id\":\"p1014\"}}},\"left\":[{\"type\":\"object\",\"name\":\"LinearAxis\",\"id\":\"p1033\",\"attributes\":{\"ticker\":{\"type\":\"object\",\"name\":\"BasicTicker\",\"id\":\"p1034\",\"attributes\":{\"mantissas\":[1,2,5]}},\"formatter\":{\"type\":\"object\",\"name\":\"BasicTickFormatter\",\"id\":\"p1035\"},\"axis_label\":\"\",\"major_label_policy\":{\"type\":\"object\",\"name\":\"AllLabels\",\"id\":\"p1036\"}}}],\"below\":[{\"type\":\"object\",\"name\":\"LinearAxis\",\"id\":\"p1028\",\"attributes\":{\"ticker\":{\"type\":\"object\",\"name\":\"BasicTicker\",\"id\":\"p1029\",\"attributes\":{\"mantissas\":[1,2,5]}},\"formatter\":{\"type\":\"object\",\"name\":\"BasicTickFormatter\",\"id\":\"p1030\"},\"axis_label\":\"\",\"major_label_policy\":{\"type\":\"object\",\"name\":\"AllLabels\",\"id\":\"p1031\"}}}],\"center\":[{\"type\":\"object\",\"name\":\"Grid\",\"id\":\"p1032\",\"attributes\":{\"axis\":{\"id\":\"p1028\"},\"grid_line_color\":null}},{\"type\":\"object\",\"name\":\"Grid\",\"id\":\"p1037\",\"attributes\":{\"dimension\":1,\"axis\":{\"id\":\"p1033\"},\"grid_line_color\":null}}],\"min_border_top\":10,\"min_border_bottom\":10,\"min_border_left\":10,\"min_border_right\":10,\"output_backend\":\"webgl\"}},{\"type\":\"object\",\"name\":\"Spacer\",\"id\":\"p1061\",\"attributes\":{\"name\":\"HSpacer00945\",\"stylesheets\":[\"\\n:host(.pn-loading):before, .pn-loading:before {\\n  background-color: #c3c3c3;\\n  mask-size: auto calc(min(50%, 400px));\\n  -webkit-mask-size: auto calc(min(50%, 400px));\\n}\",{\"id\":\"p1007\"},{\"id\":\"p1005\"},{\"id\":\"p1006\"}],\"margin\":0,\"sizing_mode\":\"stretch_width\",\"align\":\"start\"}}]}}],\"defs\":[{\"type\":\"model\",\"name\":\"ReactiveHTML1\"},{\"type\":\"model\",\"name\":\"FlexBox1\",\"properties\":[{\"name\":\"align_content\",\"kind\":\"Any\",\"default\":\"flex-start\"},{\"name\":\"align_items\",\"kind\":\"Any\",\"default\":\"flex-start\"},{\"name\":\"flex_direction\",\"kind\":\"Any\",\"default\":\"row\"},{\"name\":\"flex_wrap\",\"kind\":\"Any\",\"default\":\"wrap\"},{\"name\":\"gap\",\"kind\":\"Any\",\"default\":\"\"},{\"name\":\"justify_content\",\"kind\":\"Any\",\"default\":\"flex-start\"}]},{\"type\":\"model\",\"name\":\"FloatPanel1\",\"properties\":[{\"name\":\"config\",\"kind\":\"Any\",\"default\":{\"type\":\"map\"}},{\"name\":\"contained\",\"kind\":\"Any\",\"default\":true},{\"name\":\"position\",\"kind\":\"Any\",\"default\":\"right-top\"},{\"name\":\"offsetx\",\"kind\":\"Any\",\"default\":null},{\"name\":\"offsety\",\"kind\":\"Any\",\"default\":null},{\"name\":\"theme\",\"kind\":\"Any\",\"default\":\"primary\"},{\"name\":\"status\",\"kind\":\"Any\",\"default\":\"normalized\"}]},{\"type\":\"model\",\"name\":\"GridStack1\",\"properties\":[{\"name\":\"mode\",\"kind\":\"Any\",\"default\":\"warn\"},{\"name\":\"ncols\",\"kind\":\"Any\",\"default\":null},{\"name\":\"nrows\",\"kind\":\"Any\",\"default\":null},{\"name\":\"allow_resize\",\"kind\":\"Any\",\"default\":true},{\"name\":\"allow_drag\",\"kind\":\"Any\",\"default\":true},{\"name\":\"state\",\"kind\":\"Any\",\"default\":[]}]},{\"type\":\"model\",\"name\":\"drag1\",\"properties\":[{\"name\":\"slider_width\",\"kind\":\"Any\",\"default\":5},{\"name\":\"slider_color\",\"kind\":\"Any\",\"default\":\"black\"},{\"name\":\"value\",\"kind\":\"Any\",\"default\":50}]},{\"type\":\"model\",\"name\":\"click1\",\"properties\":[{\"name\":\"terminal_output\",\"kind\":\"Any\",\"default\":\"\"},{\"name\":\"debug_name\",\"kind\":\"Any\",\"default\":\"\"},{\"name\":\"clears\",\"kind\":\"Any\",\"default\":0}]},{\"type\":\"model\",\"name\":\"FastWrapper1\",\"properties\":[{\"name\":\"object\",\"kind\":\"Any\",\"default\":null},{\"name\":\"style\",\"kind\":\"Any\",\"default\":null}]},{\"type\":\"model\",\"name\":\"NotificationAreaBase1\",\"properties\":[{\"name\":\"js_events\",\"kind\":\"Any\",\"default\":{\"type\":\"map\"}},{\"name\":\"position\",\"kind\":\"Any\",\"default\":\"bottom-right\"},{\"name\":\"_clear\",\"kind\":\"Any\",\"default\":0}]},{\"type\":\"model\",\"name\":\"NotificationArea1\",\"properties\":[{\"name\":\"js_events\",\"kind\":\"Any\",\"default\":{\"type\":\"map\"}},{\"name\":\"notifications\",\"kind\":\"Any\",\"default\":[]},{\"name\":\"position\",\"kind\":\"Any\",\"default\":\"bottom-right\"},{\"name\":\"_clear\",\"kind\":\"Any\",\"default\":0},{\"name\":\"types\",\"kind\":\"Any\",\"default\":[{\"type\":\"map\",\"entries\":[[\"type\",\"warning\"],[\"background\",\"#ffc107\"],[\"icon\",{\"type\":\"map\",\"entries\":[[\"className\",\"fas fa-exclamation-triangle\"],[\"tagName\",\"i\"],[\"color\",\"white\"]]}]]},{\"type\":\"map\",\"entries\":[[\"type\",\"info\"],[\"background\",\"#007bff\"],[\"icon\",{\"type\":\"map\",\"entries\":[[\"className\",\"fas fa-info-circle\"],[\"tagName\",\"i\"],[\"color\",\"white\"]]}]]}]}]},{\"type\":\"model\",\"name\":\"Notification\",\"properties\":[{\"name\":\"background\",\"kind\":\"Any\",\"default\":null},{\"name\":\"duration\",\"kind\":\"Any\",\"default\":3000},{\"name\":\"icon\",\"kind\":\"Any\",\"default\":null},{\"name\":\"message\",\"kind\":\"Any\",\"default\":\"\"},{\"name\":\"notification_type\",\"kind\":\"Any\",\"default\":null},{\"name\":\"_destroyed\",\"kind\":\"Any\",\"default\":false}]},{\"type\":\"model\",\"name\":\"TemplateActions1\",\"properties\":[{\"name\":\"open_modal\",\"kind\":\"Any\",\"default\":0},{\"name\":\"close_modal\",\"kind\":\"Any\",\"default\":0}]},{\"type\":\"model\",\"name\":\"BootstrapTemplateActions1\",\"properties\":[{\"name\":\"open_modal\",\"kind\":\"Any\",\"default\":0},{\"name\":\"close_modal\",\"kind\":\"Any\",\"default\":0}]},{\"type\":\"model\",\"name\":\"TemplateEditor1\",\"properties\":[{\"name\":\"layout\",\"kind\":\"Any\",\"default\":[]}]},{\"type\":\"model\",\"name\":\"MaterialTemplateActions1\",\"properties\":[{\"name\":\"open_modal\",\"kind\":\"Any\",\"default\":0},{\"name\":\"close_modal\",\"kind\":\"Any\",\"default\":0}]},{\"type\":\"model\",\"name\":\"copy_to_clipboard1\",\"properties\":[{\"name\":\"fill\",\"kind\":\"Any\",\"default\":\"none\"},{\"name\":\"value\",\"kind\":\"Any\",\"default\":null}]}]}};\n",
       "  var render_items = [{\"docid\":\"3e39687b-19a7-4818-8180-bcd9d525144e\",\"roots\":{\"p1004\":\"cf6542cf-7253-4277-b16a-6546213700d3\"},\"root_ids\":[\"p1004\"]}];\n",
       "  var docs = Object.values(docs_json)\n",
       "  if (!docs) {\n",
       "    return\n",
       "  }\n",
       "  const py_version = docs[0].version.replace('rc', '-rc.').replace('.dev', '-dev.')\n",
       "  async function embed_document(root) {\n",
       "    var Bokeh = get_bokeh(root)\n",
       "    await Bokeh.embed.embed_items_notebook(docs_json, render_items);\n",
       "    for (const render_item of render_items) {\n",
       "      for (const root_id of render_item.root_ids) {\n",
       "\tconst id_el = document.getElementById(root_id)\n",
       "\tif (id_el.children.length && id_el.children[0].hasAttribute('data-root-id')) {\n",
       "\t  const root_el = id_el.children[0]\n",
       "\t  root_el.id = root_el.id + '-rendered'\n",
       "\t  for (const child of root_el.children) {\n",
       "            // Ensure JupyterLab does not capture keyboard shortcuts\n",
       "            // see: https://jupyterlab.readthedocs.io/en/4.1.x/extension/notebook.html#keyboard-interaction-model\n",
       "\t    child.setAttribute('data-lm-suppress-shortcuts', 'true')\n",
       "\t  }\n",
       "\t}\n",
       "      }\n",
       "    }\n",
       "  }\n",
       "  function get_bokeh(root) {\n",
       "    if (root.Bokeh === undefined) {\n",
       "      return null\n",
       "    } else if (root.Bokeh.version !== py_version) {\n",
       "      if (root.Bokeh.versions === undefined || !root.Bokeh.versions.has(py_version)) {\n",
       "\treturn null\n",
       "      }\n",
       "      return root.Bokeh.versions.get(py_version);\n",
       "    } else if (root.Bokeh.version === py_version) {\n",
       "      return root.Bokeh\n",
       "    }\n",
       "    return null\n",
       "  }\n",
       "  function is_loaded(root) {\n",
       "    var Bokeh = get_bokeh(root)\n",
       "    return (Bokeh != null && Bokeh.Panel !== undefined)\n",
       "  }\n",
       "  if (is_loaded(root)) {\n",
       "    embed_document(root);\n",
       "  } else {\n",
       "    var attempts = 0;\n",
       "    var timer = setInterval(function(root) {\n",
       "      if (is_loaded(root)) {\n",
       "        clearInterval(timer);\n",
       "        embed_document(root);\n",
       "      } else if (document.readyState == \"complete\") {\n",
       "        attempts++;\n",
       "        if (attempts > 200) {\n",
       "          clearInterval(timer);\n",
       "\t  var Bokeh = get_bokeh(root)\n",
       "\t  if (Bokeh == null || Bokeh.Panel == null) {\n",
       "            console.warn(\"Panel: ERROR: Unable to run Panel code because Bokeh or Panel library is missing\");\n",
       "\t  } else {\n",
       "\t    console.warn(\"Panel: WARNING: Attempting to render but not all required libraries could be resolved.\")\n",
       "\t    embed_document(root)\n",
       "\t  }\n",
       "        }\n",
       "      }\n",
       "    }, 25, root)\n",
       "  }\n",
       "})(window);</script>"
      ],
      "text/plain": [
       ":Curve   [index]   (Close)"
      ]
     },
     "execution_count": 7,
     "metadata": {
      "application/vnd.holoviews_exec.v0+json": {
       "id": "p1004"
      }
     },
     "output_type": "execute_result"
    }
   ],
   "source": [
    "# Specify the file paths\n",
    "data_folder = r'G:\\Projects\\BackTesting1.0\\Data\\Bloomberg\\Futures'\n",
    "#data_folder = r'/Users/utkarsh/Documents/Projects/BBG-Trading/RealTest/Data/Futures'\n",
    "tick_values_file = r'G:\\Projects\\BackTesting1.0\\Data\\Bloomberg\\HelperFiles\\fut_val_pt.parquet'\n",
    "fx_rates_file = r'G:\\Projects\\BackTesting1.0\\Data\\Bloomberg\\HelperFiles\\fxHist.parquet'\n",
    "\n",
    "# Create the MarketData object\n",
    "market_data = MarketData(data_folder, tick_values_file, fx_rates_file, instrument_type=\"Futures\")\n",
    "\n",
    "# Access the processed data\n",
    "processed_data = market_data.get_data()\n",
    "\n",
    "# Example: Accessing a specific asset's data\n",
    "ub = market_data.get_ticker_data('ES1 Index')\n",
    "ub['Close'].plot()"
   ]
  },
  {
   "cell_type": "code",
   "execution_count": 8,
   "metadata": {},
   "outputs": [
    {
     "data": {
      "text/html": [
       "<div>\n",
       "<style scoped>\n",
       "    .dataframe tbody tr th:only-of-type {\n",
       "        vertical-align: middle;\n",
       "    }\n",
       "\n",
       "    .dataframe tbody tr th {\n",
       "        vertical-align: top;\n",
       "    }\n",
       "\n",
       "    .dataframe thead th {\n",
       "        text-align: right;\n",
       "    }\n",
       "</style>\n",
       "<table border=\"1\" class=\"dataframe\">\n",
       "  <thead>\n",
       "    <tr style=\"text-align: right;\">\n",
       "      <th></th>\n",
       "      <th>Date</th>\n",
       "      <th>Open</th>\n",
       "      <th>High</th>\n",
       "      <th>Low</th>\n",
       "      <th>Close</th>\n",
       "      <th>Volume</th>\n",
       "      <th>Name</th>\n",
       "      <th>Carry_Close</th>\n",
       "      <th>Carry</th>\n",
       "      <th>BadOHLC</th>\n",
       "      <th>...</th>\n",
       "      <th>EMA</th>\n",
       "      <th>ATR</th>\n",
       "      <th>Effective_ATR</th>\n",
       "      <th>Upper_Bounce_Area</th>\n",
       "      <th>Lower_Bounce_Area</th>\n",
       "      <th>Uptrend</th>\n",
       "      <th>In_Bounce_Area</th>\n",
       "      <th>Uptrend_On_Entry</th>\n",
       "      <th>Bounce_Signal</th>\n",
       "      <th>Final_Signal</th>\n",
       "    </tr>\n",
       "  </thead>\n",
       "  <tbody>\n",
       "    <tr>\n",
       "      <th>0</th>\n",
       "      <td>1997-09-09</td>\n",
       "      <td>NaN</td>\n",
       "      <td>NaN</td>\n",
       "      <td>NaN</td>\n",
       "      <td>NaN</td>\n",
       "      <td>896</td>\n",
       "      <td>ES1 Index</td>\n",
       "      <td>NaN</td>\n",
       "      <td>NaN</td>\n",
       "      <td>False</td>\n",
       "      <td>...</td>\n",
       "      <td>NaN</td>\n",
       "      <td>NaN</td>\n",
       "      <td>NaN</td>\n",
       "      <td>NaN</td>\n",
       "      <td>NaN</td>\n",
       "      <td>False</td>\n",
       "      <td>False</td>\n",
       "      <td>True</td>\n",
       "      <td>NaN</td>\n",
       "      <td>NaN</td>\n",
       "    </tr>\n",
       "    <tr>\n",
       "      <th>1</th>\n",
       "      <td>1997-09-10</td>\n",
       "      <td>1,448</td>\n",
       "      <td>1,448</td>\n",
       "      <td>1,422</td>\n",
       "      <td>1,430</td>\n",
       "      <td>12,261</td>\n",
       "      <td>ES1 Index</td>\n",
       "      <td>NaN</td>\n",
       "      <td>NaN</td>\n",
       "      <td>False</td>\n",
       "      <td>...</td>\n",
       "      <td>1,430</td>\n",
       "      <td>NaN</td>\n",
       "      <td>NaN</td>\n",
       "      <td>NaN</td>\n",
       "      <td>NaN</td>\n",
       "      <td>False</td>\n",
       "      <td>False</td>\n",
       "      <td>True</td>\n",
       "      <td>NaN</td>\n",
       "      <td>NaN</td>\n",
       "    </tr>\n",
       "    <tr>\n",
       "      <th>2</th>\n",
       "      <td>1997-09-11</td>\n",
       "      <td>1,429</td>\n",
       "      <td>1,435</td>\n",
       "      <td>1,415</td>\n",
       "      <td>1,423</td>\n",
       "      <td>9,759</td>\n",
       "      <td>ES1 Index</td>\n",
       "      <td>NaN</td>\n",
       "      <td>NaN</td>\n",
       "      <td>False</td>\n",
       "      <td>...</td>\n",
       "      <td>1,430</td>\n",
       "      <td>NaN</td>\n",
       "      <td>NaN</td>\n",
       "      <td>NaN</td>\n",
       "      <td>NaN</td>\n",
       "      <td>False</td>\n",
       "      <td>False</td>\n",
       "      <td>True</td>\n",
       "      <td>NaN</td>\n",
       "      <td>NaN</td>\n",
       "    </tr>\n",
       "    <tr>\n",
       "      <th>3</th>\n",
       "      <td>1997-09-12</td>\n",
       "      <td>1,423</td>\n",
       "      <td>1,441</td>\n",
       "      <td>1,418</td>\n",
       "      <td>1,439</td>\n",
       "      <td>18,496</td>\n",
       "      <td>ES1 Index</td>\n",
       "      <td>NaN</td>\n",
       "      <td>NaN</td>\n",
       "      <td>False</td>\n",
       "      <td>...</td>\n",
       "      <td>1,430</td>\n",
       "      <td>NaN</td>\n",
       "      <td>NaN</td>\n",
       "      <td>NaN</td>\n",
       "      <td>NaN</td>\n",
       "      <td>True</td>\n",
       "      <td>False</td>\n",
       "      <td>True</td>\n",
       "      <td>NaN</td>\n",
       "      <td>NaN</td>\n",
       "    </tr>\n",
       "    <tr>\n",
       "      <th>4</th>\n",
       "      <td>1997-09-15</td>\n",
       "      <td>1,438</td>\n",
       "      <td>1,445</td>\n",
       "      <td>1,434</td>\n",
       "      <td>1,436</td>\n",
       "      <td>11,749</td>\n",
       "      <td>ES1 Index</td>\n",
       "      <td>NaN</td>\n",
       "      <td>NaN</td>\n",
       "      <td>False</td>\n",
       "      <td>...</td>\n",
       "      <td>1,430</td>\n",
       "      <td>NaN</td>\n",
       "      <td>NaN</td>\n",
       "      <td>NaN</td>\n",
       "      <td>NaN</td>\n",
       "      <td>True</td>\n",
       "      <td>False</td>\n",
       "      <td>True</td>\n",
       "      <td>NaN</td>\n",
       "      <td>NaN</td>\n",
       "    </tr>\n",
       "    <tr>\n",
       "      <th>...</th>\n",
       "      <td>...</td>\n",
       "      <td>...</td>\n",
       "      <td>...</td>\n",
       "      <td>...</td>\n",
       "      <td>...</td>\n",
       "      <td>...</td>\n",
       "      <td>...</td>\n",
       "      <td>...</td>\n",
       "      <td>...</td>\n",
       "      <td>...</td>\n",
       "      <td>...</td>\n",
       "      <td>...</td>\n",
       "      <td>...</td>\n",
       "      <td>...</td>\n",
       "      <td>...</td>\n",
       "      <td>...</td>\n",
       "      <td>...</td>\n",
       "      <td>...</td>\n",
       "      <td>...</td>\n",
       "      <td>...</td>\n",
       "      <td>...</td>\n",
       "    </tr>\n",
       "    <tr>\n",
       "      <th>6860</th>\n",
       "      <td>2024-09-12</td>\n",
       "      <td>5,618</td>\n",
       "      <td>5,667</td>\n",
       "      <td>5,600</td>\n",
       "      <td>5,662</td>\n",
       "      <td>264,608</td>\n",
       "      <td>ES1 Index</td>\n",
       "      <td>5,713</td>\n",
       "      <td>-202</td>\n",
       "      <td>False</td>\n",
       "      <td>...</td>\n",
       "      <td>5,331</td>\n",
       "      <td>60</td>\n",
       "      <td>60</td>\n",
       "      <td>5,361</td>\n",
       "      <td>5,301</td>\n",
       "      <td>True</td>\n",
       "      <td>False</td>\n",
       "      <td>True</td>\n",
       "      <td>NaN</td>\n",
       "      <td>NaN</td>\n",
       "    </tr>\n",
       "    <tr>\n",
       "      <th>6861</th>\n",
       "      <td>2024-09-13</td>\n",
       "      <td>5,659</td>\n",
       "      <td>5,702</td>\n",
       "      <td>5,658</td>\n",
       "      <td>5,691</td>\n",
       "      <td>904,268</td>\n",
       "      <td>ES1 Index</td>\n",
       "      <td>5,741</td>\n",
       "      <td>-201</td>\n",
       "      <td>False</td>\n",
       "      <td>...</td>\n",
       "      <td>5,334</td>\n",
       "      <td>61</td>\n",
       "      <td>61</td>\n",
       "      <td>5,365</td>\n",
       "      <td>5,304</td>\n",
       "      <td>True</td>\n",
       "      <td>False</td>\n",
       "      <td>True</td>\n",
       "      <td>NaN</td>\n",
       "      <td>NaN</td>\n",
       "    </tr>\n",
       "    <tr>\n",
       "      <th>6862</th>\n",
       "      <td>2024-09-16</td>\n",
       "      <td>5,684</td>\n",
       "      <td>5,703</td>\n",
       "      <td>5,670</td>\n",
       "      <td>5,699</td>\n",
       "      <td>1,740,015</td>\n",
       "      <td>ES1 Index</td>\n",
       "      <td>5,749</td>\n",
       "      <td>-200</td>\n",
       "      <td>False</td>\n",
       "      <td>...</td>\n",
       "      <td>5,338</td>\n",
       "      <td>61</td>\n",
       "      <td>61</td>\n",
       "      <td>5,368</td>\n",
       "      <td>5,308</td>\n",
       "      <td>True</td>\n",
       "      <td>False</td>\n",
       "      <td>True</td>\n",
       "      <td>NaN</td>\n",
       "      <td>NaN</td>\n",
       "    </tr>\n",
       "    <tr>\n",
       "      <th>6863</th>\n",
       "      <td>2024-09-17</td>\n",
       "      <td>5,694</td>\n",
       "      <td>5,737</td>\n",
       "      <td>5,678</td>\n",
       "      <td>5,700</td>\n",
       "      <td>1,773,538</td>\n",
       "      <td>ES1 Index</td>\n",
       "      <td>5,751</td>\n",
       "      <td>-200</td>\n",
       "      <td>False</td>\n",
       "      <td>...</td>\n",
       "      <td>5,342</td>\n",
       "      <td>61</td>\n",
       "      <td>61</td>\n",
       "      <td>5,372</td>\n",
       "      <td>5,311</td>\n",
       "      <td>True</td>\n",
       "      <td>False</td>\n",
       "      <td>True</td>\n",
       "      <td>NaN</td>\n",
       "      <td>NaN</td>\n",
       "    </tr>\n",
       "    <tr>\n",
       "      <th>6864</th>\n",
       "      <td>2024-09-18</td>\n",
       "      <td>5,701</td>\n",
       "      <td>5,756</td>\n",
       "      <td>5,675</td>\n",
       "      <td>5,680</td>\n",
       "      <td>1,713,236</td>\n",
       "      <td>ES1 Index</td>\n",
       "      <td>5,730</td>\n",
       "      <td>-201</td>\n",
       "      <td>False</td>\n",
       "      <td>...</td>\n",
       "      <td>5,345</td>\n",
       "      <td>61</td>\n",
       "      <td>61</td>\n",
       "      <td>5,375</td>\n",
       "      <td>5,315</td>\n",
       "      <td>True</td>\n",
       "      <td>False</td>\n",
       "      <td>True</td>\n",
       "      <td>NaN</td>\n",
       "      <td>NaN</td>\n",
       "    </tr>\n",
       "  </tbody>\n",
       "</table>\n",
       "<p>6865 rows × 23 columns</p>\n",
       "</div>"
      ],
      "text/plain": [
       "           Date  Open  High   Low  Close    Volume       Name  Carry_Close  \\\n",
       "0    1997-09-09   NaN   NaN   NaN    NaN       896  ES1 Index          NaN   \n",
       "1    1997-09-10 1,448 1,448 1,422  1,430    12,261  ES1 Index          NaN   \n",
       "2    1997-09-11 1,429 1,435 1,415  1,423     9,759  ES1 Index          NaN   \n",
       "3    1997-09-12 1,423 1,441 1,418  1,439    18,496  ES1 Index          NaN   \n",
       "4    1997-09-15 1,438 1,445 1,434  1,436    11,749  ES1 Index          NaN   \n",
       "...         ...   ...   ...   ...    ...       ...        ...          ...   \n",
       "6860 2024-09-12 5,618 5,667 5,600  5,662   264,608  ES1 Index        5,713   \n",
       "6861 2024-09-13 5,659 5,702 5,658  5,691   904,268  ES1 Index        5,741   \n",
       "6862 2024-09-16 5,684 5,703 5,670  5,699 1,740,015  ES1 Index        5,749   \n",
       "6863 2024-09-17 5,694 5,737 5,678  5,700 1,773,538  ES1 Index        5,751   \n",
       "6864 2024-09-18 5,701 5,756 5,675  5,680 1,713,236  ES1 Index        5,730   \n",
       "\n",
       "      Carry  BadOHLC  ...   EMA  ATR  Effective_ATR  Upper_Bounce_Area  \\\n",
       "0       NaN    False  ...   NaN  NaN            NaN                NaN   \n",
       "1       NaN    False  ... 1,430  NaN            NaN                NaN   \n",
       "2       NaN    False  ... 1,430  NaN            NaN                NaN   \n",
       "3       NaN    False  ... 1,430  NaN            NaN                NaN   \n",
       "4       NaN    False  ... 1,430  NaN            NaN                NaN   \n",
       "...     ...      ...  ...   ...  ...            ...                ...   \n",
       "6860   -202    False  ... 5,331   60             60              5,361   \n",
       "6861   -201    False  ... 5,334   61             61              5,365   \n",
       "6862   -200    False  ... 5,338   61             61              5,368   \n",
       "6863   -200    False  ... 5,342   61             61              5,372   \n",
       "6864   -201    False  ... 5,345   61             61              5,375   \n",
       "\n",
       "      Lower_Bounce_Area  Uptrend  In_Bounce_Area  Uptrend_On_Entry  \\\n",
       "0                   NaN    False           False              True   \n",
       "1                   NaN    False           False              True   \n",
       "2                   NaN    False           False              True   \n",
       "3                   NaN     True           False              True   \n",
       "4                   NaN     True           False              True   \n",
       "...                 ...      ...             ...               ...   \n",
       "6860              5,301     True           False              True   \n",
       "6861              5,304     True           False              True   \n",
       "6862              5,308     True           False              True   \n",
       "6863              5,311     True           False              True   \n",
       "6864              5,315     True           False              True   \n",
       "\n",
       "      Bounce_Signal  Final_Signal  \n",
       "0               NaN           NaN  \n",
       "1               NaN           NaN  \n",
       "2               NaN           NaN  \n",
       "3               NaN           NaN  \n",
       "4               NaN           NaN  \n",
       "...             ...           ...  \n",
       "6860            NaN           NaN  \n",
       "6861            NaN           NaN  \n",
       "6862            NaN           NaN  \n",
       "6863            NaN           NaN  \n",
       "6864            NaN           NaN  \n",
       "\n",
       "[6865 rows x 23 columns]"
      ]
     },
     "execution_count": 8,
     "metadata": {},
     "output_type": "execute_result"
    }
   ],
   "source": [
    "df = mean_reversion_bounce(ub)\n",
    "df"
   ]
  },
  {
   "cell_type": "code",
   "execution_count": 9,
   "metadata": {},
   "outputs": [],
   "source": [
    "df.to_clipboard()"
   ]
  },
  {
   "cell_type": "code",
   "execution_count": 10,
   "metadata": {},
   "outputs": [],
   "source": [
    "import matplotlib.pyplot as plt\n",
    "\n",
    "def plot_mean_reversion_bounce(df, start_date=None, end_date=None):\n",
    "    \"\"\"\n",
    "    Plots the close price, EMA, bounce areas, and manually adds vertical lines for final signals.\n",
    "    \n",
    "    :param df: DataFrame containing the Close, EMA, Upper/Lower bounce areas, and Final_Signal.\n",
    "    :param start_date: The start date for zooming into the chart (optional).\n",
    "    :param end_date: The end date for zooming into the chart (optional).\n",
    "    \"\"\"\n",
    "    try:\n",
    "        df = df.to_pandas()\n",
    "        df.set_index('Date', inplace=True)\n",
    "    except:\n",
    "        df.set_index('Date', inplace=True)\n",
    "\n",
    "\n",
    "    # Ensure the DataFrame is indexed by the date\n",
    "    df.index = pd.to_datetime(df.index)\n",
    "\n",
    "    # Filter the data based on the given date range\n",
    "    if start_date and end_date:\n",
    "        df = df.loc[start_date:end_date]\n",
    "\n",
    "    # Create the plot\n",
    "    plt.figure(figsize=(12, 8))\n",
    "\n",
    "    # Plot the Close Price\n",
    "    plt.plot(df.index, df['Close'], label='Close Price', color='black', linewidth=1)\n",
    "\n",
    "    # Plot the EMA\n",
    "    plt.plot(df.index, df['EMA'], label='20-day EMA', color='blue', linewidth=1.5)\n",
    "\n",
    "    # Plot the Upper and Lower Bounce Areas\n",
    "    plt.plot(df.index, df['Upper_Bounce_Area'], label='Upper Bounce Area', color='orange', linestyle='--', linewidth=1)\n",
    "    plt.plot(df.index, df['Lower_Bounce_Area'], label='Lower Bounce Area', color='orange', linestyle='--', linewidth=1)\n",
    "\n",
    "    # Plot vertical lines for Final_Signal\n",
    "    for i in range(len(df)):\n",
    "        if df['Final_Signal'].iloc[i] == 1:\n",
    "            plt.axvline(df.index[i], color='green', linestyle='-', linewidth=1.5, alpha=0.8)  # Green for bounce\n",
    "        elif df['Final_Signal'].iloc[i] == -1:\n",
    "            plt.axvline(df.index[i], color='red', linestyle='-', linewidth=1.5, alpha=0.8)  # Red for breakdown\n",
    "\n",
    "    # Add a legend\n",
    "    plt.legend()\n",
    "\n",
    "    # Add labels and title\n",
    "    plt.xlabel('Date')\n",
    "    plt.ylabel('Price')\n",
    "    plt.title('Mean Reversion Bounce Strategy')\n",
    "\n",
    "    # Display the plot\n",
    "    plt.show()\n",
    "\n",
    "# Example usage:\n",
    "# df = mean_reversion_bounce(df)  # Assuming you already have the data with signals\n",
    "# plot_mean_reversion_bounce_simplified(df, start_date='2018-01-01', end_date='2022-12-31')  # Zoom into a specific range\n"
   ]
  },
  {
   "cell_type": "code",
   "execution_count": 11,
   "metadata": {},
   "outputs": [
    {
     "data": {
      "image/png": "[encoded data removed]",
      "text/plain": [
       "<Figure size 1200x800 with 1 Axes>"
      ]
     },
     "metadata": {},
     "output_type": "display_data"
    }
   ],
   "source": [
    "plot_mean_reversion_bounce(df, start_date='2018-01-01', end_date='2022-12-31')\n"
   ]
  },
  {
   "cell_type": "code",
   "execution_count": 14,
   "metadata": {},
   "outputs": [],
   "source": [
    "\n",
    "def test_ema_bounce(asset_data, atr_period=14, atr_multiplier=0.5):\n",
    "    \"\"\"\n",
    "    Tests every EMA period from 5 to 252 for a specific asset and returns a DataFrame \n",
    "    with the bounce percentage for each EMA period.\n",
    "    \n",
    "    :param asset_data: DataFrame containing the OHLC data for a specific asset.\n",
    "    :param atr_period: Period for ATR calculation (default is 14).\n",
    "    :param atr_multiplier: Multiplier for ATR to define the bounce area (default is 0.4).\n",
    "    :return: DataFrame with EMA periods as index and bounce percentages as values.\n",
    "    \"\"\"\n",
    "    ema_periods = range(5, 253)  # EMA periods from 5 to 252\n",
    "    bounce_percentages = []\n",
    "\n",
    "    for ema_period in ema_periods:\n",
    "        # Run the mean reversion bounce function for the current EMA period\n",
    "        df_with_signals = mean_reversion_bounce(asset_data, ema_period=ema_period, atr_period=atr_period, atr_multiplier=atr_multiplier)\n",
    "\n",
    "        # Calculate the bounce percentage: (number of 1s) / (number of 1s + number of -1s)\n",
    "        final_signals = df_with_signals['Final_Signal'].dropna()  # Drop NaN values\n",
    "        num_successful_bounces = (final_signals == 1).sum()\n",
    "        num_total_bounces = (final_signals == 1).sum() + (final_signals == -1).sum()\n",
    "\n",
    "        # Calculate bounce percentage\n",
    "        if num_total_bounces > 4:\n",
    "            bounce_percentage = num_successful_bounces / num_total_bounces\n",
    "        else:\n",
    "            bounce_percentage = np.nan  # Avoid division by zero when there are no signals\n",
    "\n",
    "        bounce_percentages.append(bounce_percentage)\n",
    "\n",
    "    # Create a DataFrame with EMA periods as index and bounce percentages as values\n",
    "    bounce_df = pd.DataFrame(bounce_percentages, index=ema_periods, columns=[asset_data.name])\n",
    "\n",
    "    return bounce_df\n",
    "\n",
    "# Example usage:\n",
    "# Assuming `market_data` is an object that contains OHLC data for multiple assets, and we fetch a specific asset:\n",
    "# asset_data = market_data.get_ticker_data('AAPL')  # Replace 'AAPL' with your asset\n",
    "# asset_data.name = 'AAPL'  # Set the asset name (used in the result DataFrame)\n",
    "\n",
    "# df_bounce_percentages = test_ema_bounce(asset_data)\n",
    "# print(df_bounce_percentages)\n"
   ]
  },
  {
   "cell_type": "code",
   "execution_count": 15,
   "metadata": {},
   "outputs": [
    {
     "data": {
      "text/html": [
       "<div>\n",
       "<style scoped>\n",
       "    .dataframe tbody tr th:only-of-type {\n",
       "        vertical-align: middle;\n",
       "    }\n",
       "\n",
       "    .dataframe tbody tr th {\n",
       "        vertical-align: top;\n",
       "    }\n",
       "\n",
       "    .dataframe thead th {\n",
       "        text-align: right;\n",
       "    }\n",
       "</style>\n",
       "<table border=\"1\" class=\"dataframe\">\n",
       "  <thead>\n",
       "    <tr style=\"text-align: right;\">\n",
       "      <th></th>\n",
       "      <th>EC1 Curncy</th>\n",
       "    </tr>\n",
       "  </thead>\n",
       "  <tbody>\n",
       "    <tr>\n",
       "      <th>5</th>\n",
       "      <td>0.57</td>\n",
       "    </tr>\n",
       "    <tr>\n",
       "      <th>6</th>\n",
       "      <td>0.57</td>\n",
       "    </tr>\n",
       "    <tr>\n",
       "      <th>7</th>\n",
       "      <td>0.60</td>\n",
       "    </tr>\n",
       "    <tr>\n",
       "      <th>8</th>\n",
       "      <td>0.59</td>\n",
       "    </tr>\n",
       "    <tr>\n",
       "      <th>9</th>\n",
       "      <td>0.59</td>\n",
       "    </tr>\n",
       "    <tr>\n",
       "      <th>...</th>\n",
       "      <td>...</td>\n",
       "    </tr>\n",
       "    <tr>\n",
       "      <th>248</th>\n",
       "      <td>0.47</td>\n",
       "    </tr>\n",
       "    <tr>\n",
       "      <th>249</th>\n",
       "      <td>0.47</td>\n",
       "    </tr>\n",
       "    <tr>\n",
       "      <th>250</th>\n",
       "      <td>0.47</td>\n",
       "    </tr>\n",
       "    <tr>\n",
       "      <th>251</th>\n",
       "      <td>0.47</td>\n",
       "    </tr>\n",
       "    <tr>\n",
       "      <th>252</th>\n",
       "      <td>0.44</td>\n",
       "    </tr>\n",
       "  </tbody>\n",
       "</table>\n",
       "<p>248 rows × 1 columns</p>\n",
       "</div>"
      ],
      "text/plain": [
       "     EC1 Curncy\n",
       "5          0.57\n",
       "6          0.57\n",
       "7          0.60\n",
       "8          0.59\n",
       "9          0.59\n",
       "..          ...\n",
       "248        0.47\n",
       "249        0.47\n",
       "250        0.47\n",
       "251        0.47\n",
       "252        0.44\n",
       "\n",
       "[248 rows x 1 columns]"
      ]
     },
     "execution_count": 15,
     "metadata": {},
     "output_type": "execute_result"
    }
   ],
   "source": [
    "testtick = 'EC1 Curncy'\n",
    "asset_data = market_data.get_ticker_data(testtick)  # Replace 'AAPL' with your asset\n",
    "asset_data.name = testtick  # Set the asset name (used in the result DataFrame)\n",
    "\n",
    "df_bounce_percentages = test_ema_bounce(asset_data)\n",
    "df_bounce_percentages"
   ]
  },
  {
   "cell_type": "code",
   "execution_count": 16,
   "metadata": {},
   "outputs": [
    {
     "data": {
      "text/plain": [
       "<Axes: >"
      ]
     },
     "execution_count": 16,
     "metadata": {},
     "output_type": "execute_result"
    },
    {
     "data": {
      "image/png": "[encoded data removed]",
      "text/plain": [
       "<Figure size 640x480 with 1 Axes>"
      ]
     },
     "metadata": {},
     "output_type": "display_data"
    }
   ],
   "source": [
    "df_bounce_percentages.plot()"
   ]
  },
  {
   "cell_type": "code",
   "execution_count": 33,
   "metadata": {},
   "outputs": [],
   "source": [
    "def calculate_bounce_percentage_bins(asset_data, ema_range=(5, 252), atr_period=20, atr_multiplier=0.5, bin_size=25):\n",
    "    \"\"\"\n",
    "    Calculates the bounce percentage for various EMA periods and groups them into bins.\n",
    "    \n",
    "    :param asset_data: DataFrame for a single asset.\n",
    "    :param ema_range: Range of EMA periods to test (default is from 5 to 252).\n",
    "    :param atr_period: Period for ATR calculation (default is 20).\n",
    "    :param atr_multiplier: Multiplier for ATR to define the bounce area (default is 0.5).\n",
    "    :param bin_size: Bin size to group EMA periods (default is 25).\n",
    "    :return: A DataFrame with the EMA bins as columns and bounce percentages as values.\n",
    "    \"\"\"\n",
    "    # Step 1: Create a dictionary to store bounce percentages for each EMA period\n",
    "    bounce_stats = {}\n",
    "\n",
    "    # Step 2: Loop through each EMA period\n",
    "    for ema_period in range(ema_range[0], ema_range[1] + 1):\n",
    "        # Run the mean reversion bounce logic for the current EMA period\n",
    "        df = mean_reversion_bounce(asset_data.copy(), ema_period, atr_period, atr_multiplier)\n",
    "\n",
    "        # Count total bounces (1) and penetrations (-1)\n",
    "        total_bounces = df['Final_Signal'].notna().sum()  # Count all 1s and -1s\n",
    "        successful_bounces = (df['Final_Signal'] == 1).sum()  # Count only 1s\n",
    "\n",
    "        # Calculate bounce percentage\n",
    "        bounce_percentage = (successful_bounces / total_bounces) * 100 if total_bounces > 0 else np.nan\n",
    "\n",
    "        # Store the bounce percentage for the current EMA period\n",
    "        bounce_stats[ema_period] = bounce_percentage\n",
    "\n",
    "    # Step 3: Create a DataFrame from bounce_stats\n",
    "    bounce_df = pd.DataFrame.from_dict(bounce_stats, orient='index', columns=['Bounce_Percentage'])\n",
    "\n",
    "    # Step 4: Create bins for the EMA periods\n",
    "    bounce_df['EMA_Bin'] = pd.cut(bounce_df.index, bins=np.arange(0, ema_range[1] + bin_size, bin_size))\n",
    "\n",
    "    # Step 5: Group the bounce percentages by bin and calculate the average for each bin\n",
    "    bounce_by_bin = bounce_df.groupby('EMA_Bin')['Bounce_Percentage'].mean()\n",
    "\n",
    "    # Step 6: Return the results as a DataFrame\n",
    "    return bounce_by_bin.reset_index()\n",
    "\n",
    "\n",
    "def calculate_bounce_percentages_for_all_assets(market_data, ema_range=(5, 252), atr_period=20, atr_multiplier=0.5, bin_size=25):\n",
    "    \"\"\"\n",
    "    Calculate bounce percentages for all assets in the market data over a range of EMA periods.\n",
    "    \n",
    "    :param market_data: A dictionary of DataFrames, one for each asset.\n",
    "    :param ema_range: Range of EMA periods to test (default is (5, 252)).\n",
    "    :param atr_period: Period for ATR calculation (default is 20).\n",
    "    :param atr_multiplier: Multiplier for ATR to define the bounce area (default is 0.5).\n",
    "    :param bin_size: Bin size for grouping EMA periods (default is 25).\n",
    "    :return: A DataFrame with assets as rows and EMA bins as columns, containing the bounce percentages.\n",
    "    \"\"\"\n",
    "    results = {}\n",
    "\n",
    "    # Step 1: Loop over each asset in the market data\n",
    "    for asset, asset_data in market_data.items():\n",
    "        print(f\"Processing {asset}...\")  # For tracking progress\n",
    "\n",
    "        # Step 2: Calculate bounce percentages for the asset using the bins\n",
    "        bounce_stats = calculate_bounce_percentage_bins(asset_data, ema_range, atr_period, atr_multiplier, bin_size)\n",
    "\n",
    "        # Step 3: Store results with asset as index\n",
    "        results[asset] = bounce_stats.set_index('EMA_Bin')['Bounce_Percentage']\n",
    "\n",
    "    # Step 4: Convert results dictionary into a DataFrame\n",
    "    return pd.DataFrame(results).T  # Transpose to have assets as rows and bins as columns\n",
    "\n",
    "# Example usage:\n",
    "# Assuming 'mktdata' is a dictionary containing asset data\n",
    "# all_asset_bounce_percentages = calculate_bounce_percentages_for_all_assets(mktdata)\n"
   ]
  },
  {
   "cell_type": "code",
   "execution_count": 23,
   "metadata": {},
   "outputs": [],
   "source": [
    "mktdata = {}\n",
    "\n",
    "for asset in market_data.get_data().keys():\n",
    "    mktdata[asset] = market_data.get_ticker_data(asset)\n",
    "    "
   ]
  },
  {
   "cell_type": "code",
   "execution_count": 27,
   "metadata": {},
   "outputs": [
    {
     "name": "stderr",
     "output_type": "stream",
     "text": [
      "C:\\Users\\karsh\\AppData\\Local\\Temp\\ipykernel_2377604\\3876129832.py:37: FutureWarning: The default of observed=False is deprecated and will be changed to True in a future version of pandas. Pass observed=False to retain current behavior or observed=True to adopt the future default and silence this warning.\n",
      "  bounce_by_bin = bounce_df.groupby('EMA_Bin')['Bounce_Percentage'].mean()\n"
     ]
    }
   ],
   "source": [
    "test = calculate_bounce_percentage_bins(mktdata['ES1 Index'], bin_size=10)\n"
   ]
  },
  {
   "cell_type": "code",
   "execution_count": 31,
   "metadata": {},
   "outputs": [
    {
     "data": {
      "image/png": "[encoded data removed]",
      "text/plain": [
       "<Figure size 1000x600 with 1 Axes>"
      ]
     },
     "metadata": {},
     "output_type": "display_data"
    }
   ],
   "source": [
    "\n",
    "def plot_bounce_probability(test_df, asset_name=''):\n",
    "    \"\"\"\n",
    "    Plots the bounce probability for each EMA bin.\n",
    "    \n",
    "    :param test_df: DataFrame containing the bins and bounce percentages.\n",
    "    \"\"\"\n",
    "    # Plotting the bounce probabilities\n",
    "    plt.figure(figsize=(10, 6))\n",
    "    plt.plot(test_df['EMA_Bin'].astype(str), test_df['Bounce_Percentage'], marker='o', linestyle='-', color='blue')\n",
    "\n",
    "    # Formatting the plot\n",
    "    plt.title(f'{asset_name} - Bounce Probability per EMA Bin')\n",
    "    plt.xlabel('EMA Bins')\n",
    "    plt.ylabel('Bounce Probability (%)')\n",
    "    plt.xticks(rotation=45, ha='right')  # Rotate x-axis labels for better readability\n",
    "    plt.grid(True)\n",
    "    plt.tight_layout()\n",
    "\n",
    "    # Show the plot\n",
    "    plt.show()\n",
    "\n",
    "# Example usage:\n",
    "# Assuming `test` is the DataFrame containing the EMA bins and bounce percentages\n",
    "plot_bounce_probability(test, 'ES1 Index')"
   ]
  },
  {
   "cell_type": "code",
   "execution_count": 34,
   "metadata": {},
   "outputs": [
    {
     "name": "stdout",
     "output_type": "stream",
     "text": [
      "Processing HG1 Comdty...\n"
     ]
    },
    {
     "name": "stderr",
     "output_type": "stream",
     "text": [
      "C:\\Users\\karsh\\AppData\\Local\\Temp\\ipykernel_2377604\\2153077588.py:37: FutureWarning: The default of observed=False is deprecated and will be changed to True in a future version of pandas. Pass observed=False to retain current behavior or observed=True to adopt the future default and silence this warning.\n",
      "  bounce_by_bin = bounce_df.groupby('EMA_Bin')['Bounce_Percentage'].mean()\n"
     ]
    },
    {
     "name": "stdout",
     "output_type": "stream",
     "text": [
      "Processing LA1 Comdty...\n"
     ]
    },
    {
     "name": "stderr",
     "output_type": "stream",
     "text": [
      "C:\\Users\\karsh\\AppData\\Local\\Temp\\ipykernel_2377604\\2153077588.py:37: FutureWarning: The default of observed=False is deprecated and will be changed to True in a future version of pandas. Pass observed=False to retain current behavior or observed=True to adopt the future default and silence this warning.\n",
      "  bounce_by_bin = bounce_df.groupby('EMA_Bin')['Bounce_Percentage'].mean()\n"
     ]
    },
    {
     "name": "stdout",
     "output_type": "stream",
     "text": [
      "Processing LN1 Comdty...\n"
     ]
    },
    {
     "name": "stderr",
     "output_type": "stream",
     "text": [
      "C:\\Users\\karsh\\AppData\\Local\\Temp\\ipykernel_2377604\\2153077588.py:37: FutureWarning: The default of observed=False is deprecated and will be changed to True in a future version of pandas. Pass observed=False to retain current behavior or observed=True to adopt the future default and silence this warning.\n",
      "  bounce_by_bin = bounce_df.groupby('EMA_Bin')['Bounce_Percentage'].mean()\n"
     ]
    },
    {
     "name": "stdout",
     "output_type": "stream",
     "text": [
      "Processing LP1 Comdty...\n"
     ]
    },
    {
     "name": "stderr",
     "output_type": "stream",
     "text": [
      "C:\\Users\\karsh\\AppData\\Local\\Temp\\ipykernel_2377604\\2153077588.py:37: FutureWarning: The default of observed=False is deprecated and will be changed to True in a future version of pandas. Pass observed=False to retain current behavior or observed=True to adopt the future default and silence this warning.\n",
      "  bounce_by_bin = bounce_df.groupby('EMA_Bin')['Bounce_Percentage'].mean()\n"
     ]
    },
    {
     "name": "stdout",
     "output_type": "stream",
     "text": [
      "Processing SCO1 Comdty...\n"
     ]
    },
    {
     "name": "stderr",
     "output_type": "stream",
     "text": [
      "C:\\Users\\karsh\\AppData\\Local\\Temp\\ipykernel_2377604\\2153077588.py:37: FutureWarning: The default of observed=False is deprecated and will be changed to True in a future version of pandas. Pass observed=False to retain current behavior or observed=True to adopt the future default and silence this warning.\n",
      "  bounce_by_bin = bounce_df.groupby('EMA_Bin')['Bounce_Percentage'].mean()\n"
     ]
    },
    {
     "name": "stdout",
     "output_type": "stream",
     "text": [
      "Processing CL1 Comdty...\n"
     ]
    },
    {
     "name": "stderr",
     "output_type": "stream",
     "text": [
      "C:\\Users\\karsh\\AppData\\Local\\Temp\\ipykernel_2377604\\2153077588.py:37: FutureWarning: The default of observed=False is deprecated and will be changed to True in a future version of pandas. Pass observed=False to retain current behavior or observed=True to adopt the future default and silence this warning.\n",
      "  bounce_by_bin = bounce_df.groupby('EMA_Bin')['Bounce_Percentage'].mean()\n"
     ]
    },
    {
     "name": "stdout",
     "output_type": "stream",
     "text": [
      "Processing CO1 Comdty...\n"
     ]
    },
    {
     "name": "stderr",
     "output_type": "stream",
     "text": [
      "C:\\Users\\karsh\\AppData\\Local\\Temp\\ipykernel_2377604\\2153077588.py:37: FutureWarning: The default of observed=False is deprecated and will be changed to True in a future version of pandas. Pass observed=False to retain current behavior or observed=True to adopt the future default and silence this warning.\n",
      "  bounce_by_bin = bounce_df.groupby('EMA_Bin')['Bounce_Percentage'].mean()\n"
     ]
    },
    {
     "name": "stdout",
     "output_type": "stream",
     "text": [
      "Processing HO1 Comdty...\n"
     ]
    },
    {
     "name": "stderr",
     "output_type": "stream",
     "text": [
      "C:\\Users\\karsh\\AppData\\Local\\Temp\\ipykernel_2377604\\2153077588.py:37: FutureWarning: The default of observed=False is deprecated and will be changed to True in a future version of pandas. Pass observed=False to retain current behavior or observed=True to adopt the future default and silence this warning.\n",
      "  bounce_by_bin = bounce_df.groupby('EMA_Bin')['Bounce_Percentage'].mean()\n"
     ]
    },
    {
     "name": "stdout",
     "output_type": "stream",
     "text": [
      "Processing MO1 Comdty...\n"
     ]
    },
    {
     "name": "stderr",
     "output_type": "stream",
     "text": [
      "C:\\Users\\karsh\\AppData\\Local\\Temp\\ipykernel_2377604\\2153077588.py:37: FutureWarning: The default of observed=False is deprecated and will be changed to True in a future version of pandas. Pass observed=False to retain current behavior or observed=True to adopt the future default and silence this warning.\n",
      "  bounce_by_bin = bounce_df.groupby('EMA_Bin')['Bounce_Percentage'].mean()\n"
     ]
    },
    {
     "name": "stdout",
     "output_type": "stream",
     "text": [
      "Processing NG1 Comdty...\n"
     ]
    },
    {
     "name": "stderr",
     "output_type": "stream",
     "text": [
      "C:\\Users\\karsh\\AppData\\Local\\Temp\\ipykernel_2377604\\2153077588.py:37: FutureWarning: The default of observed=False is deprecated and will be changed to True in a future version of pandas. Pass observed=False to retain current behavior or observed=True to adopt the future default and silence this warning.\n",
      "  bounce_by_bin = bounce_df.groupby('EMA_Bin')['Bounce_Percentage'].mean()\n"
     ]
    },
    {
     "name": "stdout",
     "output_type": "stream",
     "text": [
      "Processing QS1 Comdty...\n"
     ]
    },
    {
     "name": "stderr",
     "output_type": "stream",
     "text": [
      "C:\\Users\\karsh\\AppData\\Local\\Temp\\ipykernel_2377604\\2153077588.py:37: FutureWarning: The default of observed=False is deprecated and will be changed to True in a future version of pandas. Pass observed=False to retain current behavior or observed=True to adopt the future default and silence this warning.\n",
      "  bounce_by_bin = bounce_df.groupby('EMA_Bin')['Bounce_Percentage'].mean()\n"
     ]
    },
    {
     "name": "stdout",
     "output_type": "stream",
     "text": [
      "Processing TZT2 Comdty...\n"
     ]
    },
    {
     "name": "stderr",
     "output_type": "stream",
     "text": [
      "C:\\Users\\karsh\\AppData\\Local\\Temp\\ipykernel_2377604\\2153077588.py:37: FutureWarning: The default of observed=False is deprecated and will be changed to True in a future version of pandas. Pass observed=False to retain current behavior or observed=True to adopt the future default and silence this warning.\n",
      "  bounce_by_bin = bounce_df.groupby('EMA_Bin')['Bounce_Percentage'].mean()\n"
     ]
    },
    {
     "name": "stdout",
     "output_type": "stream",
     "text": [
      "Processing XB1 Comdty...\n"
     ]
    },
    {
     "name": "stderr",
     "output_type": "stream",
     "text": [
      "C:\\Users\\karsh\\AppData\\Local\\Temp\\ipykernel_2377604\\2153077588.py:37: FutureWarning: The default of observed=False is deprecated and will be changed to True in a future version of pandas. Pass observed=False to retain current behavior or observed=True to adopt the future default and silence this warning.\n",
      "  bounce_by_bin = bounce_df.groupby('EMA_Bin')['Bounce_Percentage'].mean()\n"
     ]
    },
    {
     "name": "stdout",
     "output_type": "stream",
     "text": [
      "Processing GC1 Comdty...\n"
     ]
    },
    {
     "name": "stderr",
     "output_type": "stream",
     "text": [
      "C:\\Users\\karsh\\AppData\\Local\\Temp\\ipykernel_2377604\\2153077588.py:37: FutureWarning: The default of observed=False is deprecated and will be changed to True in a future version of pandas. Pass observed=False to retain current behavior or observed=True to adopt the future default and silence this warning.\n",
      "  bounce_by_bin = bounce_df.groupby('EMA_Bin')['Bounce_Percentage'].mean()\n"
     ]
    },
    {
     "name": "stdout",
     "output_type": "stream",
     "text": [
      "Processing PL1 Comdty...\n"
     ]
    },
    {
     "name": "stderr",
     "output_type": "stream",
     "text": [
      "C:\\Users\\karsh\\AppData\\Local\\Temp\\ipykernel_2377604\\2153077588.py:37: FutureWarning: The default of observed=False is deprecated and will be changed to True in a future version of pandas. Pass observed=False to retain current behavior or observed=True to adopt the future default and silence this warning.\n",
      "  bounce_by_bin = bounce_df.groupby('EMA_Bin')['Bounce_Percentage'].mean()\n"
     ]
    },
    {
     "name": "stdout",
     "output_type": "stream",
     "text": [
      "Processing SI1 Comdty...\n"
     ]
    },
    {
     "name": "stderr",
     "output_type": "stream",
     "text": [
      "C:\\Users\\karsh\\AppData\\Local\\Temp\\ipykernel_2377604\\2153077588.py:37: FutureWarning: The default of observed=False is deprecated and will be changed to True in a future version of pandas. Pass observed=False to retain current behavior or observed=True to adopt the future default and silence this warning.\n",
      "  bounce_by_bin = bounce_df.groupby('EMA_Bin')['Bounce_Percentage'].mean()\n"
     ]
    },
    {
     "name": "stdout",
     "output_type": "stream",
     "text": [
      "Processing BO1 Comdty...\n"
     ]
    },
    {
     "name": "stderr",
     "output_type": "stream",
     "text": [
      "C:\\Users\\karsh\\AppData\\Local\\Temp\\ipykernel_2377604\\2153077588.py:37: FutureWarning: The default of observed=False is deprecated and will be changed to True in a future version of pandas. Pass observed=False to retain current behavior or observed=True to adopt the future default and silence this warning.\n",
      "  bounce_by_bin = bounce_df.groupby('EMA_Bin')['Bounce_Percentage'].mean()\n"
     ]
    },
    {
     "name": "stdout",
     "output_type": "stream",
     "text": [
      "Processing C 1 Comdty...\n"
     ]
    },
    {
     "name": "stderr",
     "output_type": "stream",
     "text": [
      "C:\\Users\\karsh\\AppData\\Local\\Temp\\ipykernel_2377604\\2153077588.py:37: FutureWarning: The default of observed=False is deprecated and will be changed to True in a future version of pandas. Pass observed=False to retain current behavior or observed=True to adopt the future default and silence this warning.\n",
      "  bounce_by_bin = bounce_df.groupby('EMA_Bin')['Bounce_Percentage'].mean()\n"
     ]
    },
    {
     "name": "stdout",
     "output_type": "stream",
     "text": [
      "Processing CA1 Comdty...\n"
     ]
    },
    {
     "name": "stderr",
     "output_type": "stream",
     "text": [
      "C:\\Users\\karsh\\AppData\\Local\\Temp\\ipykernel_2377604\\2153077588.py:37: FutureWarning: The default of observed=False is deprecated and will be changed to True in a future version of pandas. Pass observed=False to retain current behavior or observed=True to adopt the future default and silence this warning.\n",
      "  bounce_by_bin = bounce_df.groupby('EMA_Bin')['Bounce_Percentage'].mean()\n"
     ]
    },
    {
     "name": "stdout",
     "output_type": "stream",
     "text": [
      "Processing FC1 Comdty...\n"
     ]
    },
    {
     "name": "stderr",
     "output_type": "stream",
     "text": [
      "C:\\Users\\karsh\\AppData\\Local\\Temp\\ipykernel_2377604\\2153077588.py:37: FutureWarning: The default of observed=False is deprecated and will be changed to True in a future version of pandas. Pass observed=False to retain current behavior or observed=True to adopt the future default and silence this warning.\n",
      "  bounce_by_bin = bounce_df.groupby('EMA_Bin')['Bounce_Percentage'].mean()\n"
     ]
    },
    {
     "name": "stdout",
     "output_type": "stream",
     "text": [
      "Processing KC1 Comdty...\n"
     ]
    },
    {
     "name": "stderr",
     "output_type": "stream",
     "text": [
      "C:\\Users\\karsh\\AppData\\Local\\Temp\\ipykernel_2377604\\2153077588.py:37: FutureWarning: The default of observed=False is deprecated and will be changed to True in a future version of pandas. Pass observed=False to retain current behavior or observed=True to adopt the future default and silence this warning.\n",
      "  bounce_by_bin = bounce_df.groupby('EMA_Bin')['Bounce_Percentage'].mean()\n"
     ]
    },
    {
     "name": "stdout",
     "output_type": "stream",
     "text": [
      "Processing QC1 Comdty...\n"
     ]
    },
    {
     "name": "stderr",
     "output_type": "stream",
     "text": [
      "C:\\Users\\karsh\\AppData\\Local\\Temp\\ipykernel_2377604\\2153077588.py:37: FutureWarning: The default of observed=False is deprecated and will be changed to True in a future version of pandas. Pass observed=False to retain current behavior or observed=True to adopt the future default and silence this warning.\n",
      "  bounce_by_bin = bounce_df.groupby('EMA_Bin')['Bounce_Percentage'].mean()\n"
     ]
    },
    {
     "name": "stdout",
     "output_type": "stream",
     "text": [
      "Processing QW1 Comdty...\n"
     ]
    },
    {
     "name": "stderr",
     "output_type": "stream",
     "text": [
      "C:\\Users\\karsh\\AppData\\Local\\Temp\\ipykernel_2377604\\2153077588.py:37: FutureWarning: The default of observed=False is deprecated and will be changed to True in a future version of pandas. Pass observed=False to retain current behavior or observed=True to adopt the future default and silence this warning.\n",
      "  bounce_by_bin = bounce_df.groupby('EMA_Bin')['Bounce_Percentage'].mean()\n"
     ]
    },
    {
     "name": "stdout",
     "output_type": "stream",
     "text": [
      "Processing RR1 Comdty...\n"
     ]
    },
    {
     "name": "stderr",
     "output_type": "stream",
     "text": [
      "C:\\Users\\karsh\\AppData\\Local\\Temp\\ipykernel_2377604\\2153077588.py:37: FutureWarning: The default of observed=False is deprecated and will be changed to True in a future version of pandas. Pass observed=False to retain current behavior or observed=True to adopt the future default and silence this warning.\n",
      "  bounce_by_bin = bounce_df.groupby('EMA_Bin')['Bounce_Percentage'].mean()\n"
     ]
    },
    {
     "name": "stdout",
     "output_type": "stream",
     "text": [
      "Processing RS1 Comdty...\n"
     ]
    },
    {
     "name": "stderr",
     "output_type": "stream",
     "text": [
      "C:\\Users\\karsh\\AppData\\Local\\Temp\\ipykernel_2377604\\2153077588.py:37: FutureWarning: The default of observed=False is deprecated and will be changed to True in a future version of pandas. Pass observed=False to retain current behavior or observed=True to adopt the future default and silence this warning.\n",
      "  bounce_by_bin = bounce_df.groupby('EMA_Bin')['Bounce_Percentage'].mean()\n"
     ]
    },
    {
     "name": "stdout",
     "output_type": "stream",
     "text": [
      "Processing S 1 Comdty...\n"
     ]
    },
    {
     "name": "stderr",
     "output_type": "stream",
     "text": [
      "C:\\Users\\karsh\\AppData\\Local\\Temp\\ipykernel_2377604\\2153077588.py:37: FutureWarning: The default of observed=False is deprecated and will be changed to True in a future version of pandas. Pass observed=False to retain current behavior or observed=True to adopt the future default and silence this warning.\n",
      "  bounce_by_bin = bounce_df.groupby('EMA_Bin')['Bounce_Percentage'].mean()\n"
     ]
    },
    {
     "name": "stdout",
     "output_type": "stream",
     "text": [
      "Processing SB1 Comdty...\n"
     ]
    },
    {
     "name": "stderr",
     "output_type": "stream",
     "text": [
      "C:\\Users\\karsh\\AppData\\Local\\Temp\\ipykernel_2377604\\2153077588.py:37: FutureWarning: The default of observed=False is deprecated and will be changed to True in a future version of pandas. Pass observed=False to retain current behavior or observed=True to adopt the future default and silence this warning.\n",
      "  bounce_by_bin = bounce_df.groupby('EMA_Bin')['Bounce_Percentage'].mean()\n"
     ]
    },
    {
     "name": "stdout",
     "output_type": "stream",
     "text": [
      "Processing SM1 Comdty...\n"
     ]
    },
    {
     "name": "stderr",
     "output_type": "stream",
     "text": [
      "C:\\Users\\karsh\\AppData\\Local\\Temp\\ipykernel_2377604\\2153077588.py:37: FutureWarning: The default of observed=False is deprecated and will be changed to True in a future version of pandas. Pass observed=False to retain current behavior or observed=True to adopt the future default and silence this warning.\n",
      "  bounce_by_bin = bounce_df.groupby('EMA_Bin')['Bounce_Percentage'].mean()\n"
     ]
    },
    {
     "name": "stdout",
     "output_type": "stream",
     "text": [
      "Processing W 1 Comdty...\n"
     ]
    },
    {
     "name": "stderr",
     "output_type": "stream",
     "text": [
      "C:\\Users\\karsh\\AppData\\Local\\Temp\\ipykernel_2377604\\2153077588.py:37: FutureWarning: The default of observed=False is deprecated and will be changed to True in a future version of pandas. Pass observed=False to retain current behavior or observed=True to adopt the future default and silence this warning.\n",
      "  bounce_by_bin = bounce_df.groupby('EMA_Bin')['Bounce_Percentage'].mean()\n"
     ]
    },
    {
     "name": "stdout",
     "output_type": "stream",
     "text": [
      "Processing YW1 Comdty...\n"
     ]
    },
    {
     "name": "stderr",
     "output_type": "stream",
     "text": [
      "C:\\Users\\karsh\\AppData\\Local\\Temp\\ipykernel_2377604\\2153077588.py:37: FutureWarning: The default of observed=False is deprecated and will be changed to True in a future version of pandas. Pass observed=False to retain current behavior or observed=True to adopt the future default and silence this warning.\n",
      "  bounce_by_bin = bounce_df.groupby('EMA_Bin')['Bounce_Percentage'].mean()\n"
     ]
    },
    {
     "name": "stdout",
     "output_type": "stream",
     "text": [
      "Processing BTC1 Curncy...\n"
     ]
    },
    {
     "name": "stderr",
     "output_type": "stream",
     "text": [
      "C:\\Users\\karsh\\AppData\\Local\\Temp\\ipykernel_2377604\\2153077588.py:37: FutureWarning: The default of observed=False is deprecated and will be changed to True in a future version of pandas. Pass observed=False to retain current behavior or observed=True to adopt the future default and silence this warning.\n",
      "  bounce_by_bin = bounce_df.groupby('EMA_Bin')['Bounce_Percentage'].mean()\n"
     ]
    },
    {
     "name": "stdout",
     "output_type": "stream",
     "text": [
      "Processing DCR1 Curncy...\n"
     ]
    },
    {
     "name": "stderr",
     "output_type": "stream",
     "text": [
      "C:\\Users\\karsh\\AppData\\Local\\Temp\\ipykernel_2377604\\2153077588.py:37: FutureWarning: The default of observed=False is deprecated and will be changed to True in a future version of pandas. Pass observed=False to retain current behavior or observed=True to adopt the future default and silence this warning.\n",
      "  bounce_by_bin = bounce_df.groupby('EMA_Bin')['Bounce_Percentage'].mean()\n"
     ]
    },
    {
     "name": "stdout",
     "output_type": "stream",
     "text": [
      "Processing NK1 Index...\n"
     ]
    },
    {
     "name": "stderr",
     "output_type": "stream",
     "text": [
      "C:\\Users\\karsh\\AppData\\Local\\Temp\\ipykernel_2377604\\2153077588.py:37: FutureWarning: The default of observed=False is deprecated and will be changed to True in a future version of pandas. Pass observed=False to retain current behavior or observed=True to adopt the future default and silence this warning.\n",
      "  bounce_by_bin = bounce_df.groupby('EMA_Bin')['Bounce_Percentage'].mean()\n"
     ]
    },
    {
     "name": "stdout",
     "output_type": "stream",
     "text": [
      "Processing TP1 Index...\n"
     ]
    },
    {
     "name": "stderr",
     "output_type": "stream",
     "text": [
      "C:\\Users\\karsh\\AppData\\Local\\Temp\\ipykernel_2377604\\2153077588.py:37: FutureWarning: The default of observed=False is deprecated and will be changed to True in a future version of pandas. Pass observed=False to retain current behavior or observed=True to adopt the future default and silence this warning.\n",
      "  bounce_by_bin = bounce_df.groupby('EMA_Bin')['Bounce_Percentage'].mean()\n"
     ]
    },
    {
     "name": "stdout",
     "output_type": "stream",
     "text": [
      "Processing XP1 Index...\n"
     ]
    },
    {
     "name": "stderr",
     "output_type": "stream",
     "text": [
      "C:\\Users\\karsh\\AppData\\Local\\Temp\\ipykernel_2377604\\2153077588.py:37: FutureWarning: The default of observed=False is deprecated and will be changed to True in a future version of pandas. Pass observed=False to retain current behavior or observed=True to adopt the future default and silence this warning.\n",
      "  bounce_by_bin = bounce_df.groupby('EMA_Bin')['Bounce_Percentage'].mean()\n"
     ]
    },
    {
     "name": "stdout",
     "output_type": "stream",
     "text": [
      "Processing ASD3 Index...\n"
     ]
    },
    {
     "name": "stderr",
     "output_type": "stream",
     "text": [
      "C:\\Users\\karsh\\AppData\\Local\\Temp\\ipykernel_2377604\\2153077588.py:37: FutureWarning: The default of observed=False is deprecated and will be changed to True in a future version of pandas. Pass observed=False to retain current behavior or observed=True to adopt the future default and silence this warning.\n",
      "  bounce_by_bin = bounce_df.groupby('EMA_Bin')['Bounce_Percentage'].mean()\n"
     ]
    },
    {
     "name": "stdout",
     "output_type": "stream",
     "text": [
      "Processing DBE3 Index...\n"
     ]
    },
    {
     "name": "stderr",
     "output_type": "stream",
     "text": [
      "C:\\Users\\karsh\\AppData\\Local\\Temp\\ipykernel_2377604\\2153077588.py:37: FutureWarning: The default of observed=False is deprecated and will be changed to True in a future version of pandas. Pass observed=False to retain current behavior or observed=True to adopt the future default and silence this warning.\n",
      "  bounce_by_bin = bounce_df.groupby('EMA_Bin')['Bounce_Percentage'].mean()\n"
     ]
    },
    {
     "name": "stdout",
     "output_type": "stream",
     "text": [
      "Processing DED3 Index...\n"
     ]
    },
    {
     "name": "stderr",
     "output_type": "stream",
     "text": [
      "C:\\Users\\karsh\\AppData\\Local\\Temp\\ipykernel_2377604\\2153077588.py:37: FutureWarning: The default of observed=False is deprecated and will be changed to True in a future version of pandas. Pass observed=False to retain current behavior or observed=True to adopt the future default and silence this warning.\n",
      "  bounce_by_bin = bounce_df.groupby('EMA_Bin')['Bounce_Percentage'].mean()\n"
     ]
    },
    {
     "name": "stdout",
     "output_type": "stream",
     "text": [
      "Processing MND3 Index...\n"
     ]
    },
    {
     "name": "stderr",
     "output_type": "stream",
     "text": [
      "C:\\Users\\karsh\\AppData\\Local\\Temp\\ipykernel_2377604\\2153077588.py:37: FutureWarning: The default of observed=False is deprecated and will be changed to True in a future version of pandas. Pass observed=False to retain current behavior or observed=True to adopt the future default and silence this warning.\n",
      "  bounce_by_bin = bounce_df.groupby('EMA_Bin')['Bounce_Percentage'].mean()\n"
     ]
    },
    {
     "name": "stdout",
     "output_type": "stream",
     "text": [
      "Processing HC1 Index...\n"
     ]
    },
    {
     "name": "stderr",
     "output_type": "stream",
     "text": [
      "C:\\Users\\karsh\\AppData\\Local\\Temp\\ipykernel_2377604\\2153077588.py:37: FutureWarning: The default of observed=False is deprecated and will be changed to True in a future version of pandas. Pass observed=False to retain current behavior or observed=True to adopt the future default and silence this warning.\n",
      "  bounce_by_bin = bounce_df.groupby('EMA_Bin')['Bounce_Percentage'].mean()\n"
     ]
    },
    {
     "name": "stdout",
     "output_type": "stream",
     "text": [
      "Processing KM1 Index...\n"
     ]
    },
    {
     "name": "stderr",
     "output_type": "stream",
     "text": [
      "C:\\Users\\karsh\\AppData\\Local\\Temp\\ipykernel_2377604\\2153077588.py:37: FutureWarning: The default of observed=False is deprecated and will be changed to True in a future version of pandas. Pass observed=False to retain current behavior or observed=True to adopt the future default and silence this warning.\n",
      "  bounce_by_bin = bounce_df.groupby('EMA_Bin')['Bounce_Percentage'].mean()\n"
     ]
    },
    {
     "name": "stdout",
     "output_type": "stream",
     "text": [
      "Processing MES1 Index...\n"
     ]
    },
    {
     "name": "stderr",
     "output_type": "stream",
     "text": [
      "C:\\Users\\karsh\\AppData\\Local\\Temp\\ipykernel_2377604\\2153077588.py:37: FutureWarning: The default of observed=False is deprecated and will be changed to True in a future version of pandas. Pass observed=False to retain current behavior or observed=True to adopt the future default and silence this warning.\n",
      "  bounce_by_bin = bounce_df.groupby('EMA_Bin')['Bounce_Percentage'].mean()\n"
     ]
    },
    {
     "name": "stdout",
     "output_type": "stream",
     "text": [
      "Processing XB1 Index...\n"
     ]
    },
    {
     "name": "stderr",
     "output_type": "stream",
     "text": [
      "C:\\Users\\karsh\\AppData\\Local\\Temp\\ipykernel_2377604\\2153077588.py:37: FutureWarning: The default of observed=False is deprecated and will be changed to True in a future version of pandas. Pass observed=False to retain current behavior or observed=True to adopt the future default and silence this warning.\n",
      "  bounce_by_bin = bounce_df.groupby('EMA_Bin')['Bounce_Percentage'].mean()\n"
     ]
    },
    {
     "name": "stdout",
     "output_type": "stream",
     "text": [
      "Processing XU1 Index...\n"
     ]
    },
    {
     "name": "stderr",
     "output_type": "stream",
     "text": [
      "C:\\Users\\karsh\\AppData\\Local\\Temp\\ipykernel_2377604\\2153077588.py:37: FutureWarning: The default of observed=False is deprecated and will be changed to True in a future version of pandas. Pass observed=False to retain current behavior or observed=True to adopt the future default and silence this warning.\n",
      "  bounce_by_bin = bounce_df.groupby('EMA_Bin')['Bounce_Percentage'].mean()\n"
     ]
    },
    {
     "name": "stdout",
     "output_type": "stream",
     "text": [
      "Processing CA1 Index...\n"
     ]
    },
    {
     "name": "stderr",
     "output_type": "stream",
     "text": [
      "C:\\Users\\karsh\\AppData\\Local\\Temp\\ipykernel_2377604\\2153077588.py:37: FutureWarning: The default of observed=False is deprecated and will be changed to True in a future version of pandas. Pass observed=False to retain current behavior or observed=True to adopt the future default and silence this warning.\n",
      "  bounce_by_bin = bounce_df.groupby('EMA_Bin')['Bounce_Percentage'].mean()\n"
     ]
    },
    {
     "name": "stdout",
     "output_type": "stream",
     "text": [
      "Processing GX1 Index...\n"
     ]
    },
    {
     "name": "stderr",
     "output_type": "stream",
     "text": [
      "C:\\Users\\karsh\\AppData\\Local\\Temp\\ipykernel_2377604\\2153077588.py:37: FutureWarning: The default of observed=False is deprecated and will be changed to True in a future version of pandas. Pass observed=False to retain current behavior or observed=True to adopt the future default and silence this warning.\n",
      "  bounce_by_bin = bounce_df.groupby('EMA_Bin')['Bounce_Percentage'].mean()\n"
     ]
    },
    {
     "name": "stdout",
     "output_type": "stream",
     "text": [
      "Processing VG1 Index...\n"
     ]
    },
    {
     "name": "stderr",
     "output_type": "stream",
     "text": [
      "C:\\Users\\karsh\\AppData\\Local\\Temp\\ipykernel_2377604\\2153077588.py:37: FutureWarning: The default of observed=False is deprecated and will be changed to True in a future version of pandas. Pass observed=False to retain current behavior or observed=True to adopt the future default and silence this warning.\n",
      "  bounce_by_bin = bounce_df.groupby('EMA_Bin')['Bounce_Percentage'].mean()\n"
     ]
    },
    {
     "name": "stdout",
     "output_type": "stream",
     "text": [
      "Processing Z 1 Index...\n"
     ]
    },
    {
     "name": "stderr",
     "output_type": "stream",
     "text": [
      "C:\\Users\\karsh\\AppData\\Local\\Temp\\ipykernel_2377604\\2153077588.py:37: FutureWarning: The default of observed=False is deprecated and will be changed to True in a future version of pandas. Pass observed=False to retain current behavior or observed=True to adopt the future default and silence this warning.\n",
      "  bounce_by_bin = bounce_df.groupby('EMA_Bin')['Bounce_Percentage'].mean()\n"
     ]
    },
    {
     "name": "stdout",
     "output_type": "stream",
     "text": [
      "Processing DM1 Index...\n"
     ]
    },
    {
     "name": "stderr",
     "output_type": "stream",
     "text": [
      "C:\\Users\\karsh\\AppData\\Local\\Temp\\ipykernel_2377604\\2153077588.py:37: FutureWarning: The default of observed=False is deprecated and will be changed to True in a future version of pandas. Pass observed=False to retain current behavior or observed=True to adopt the future default and silence this warning.\n",
      "  bounce_by_bin = bounce_df.groupby('EMA_Bin')['Bounce_Percentage'].mean()\n"
     ]
    },
    {
     "name": "stdout",
     "output_type": "stream",
     "text": [
      "Processing ES1 Index...\n"
     ]
    },
    {
     "name": "stderr",
     "output_type": "stream",
     "text": [
      "C:\\Users\\karsh\\AppData\\Local\\Temp\\ipykernel_2377604\\2153077588.py:37: FutureWarning: The default of observed=False is deprecated and will be changed to True in a future version of pandas. Pass observed=False to retain current behavior or observed=True to adopt the future default and silence this warning.\n",
      "  bounce_by_bin = bounce_df.groupby('EMA_Bin')['Bounce_Percentage'].mean()\n"
     ]
    },
    {
     "name": "stdout",
     "output_type": "stream",
     "text": [
      "Processing NQ1 Index...\n"
     ]
    },
    {
     "name": "stderr",
     "output_type": "stream",
     "text": [
      "C:\\Users\\karsh\\AppData\\Local\\Temp\\ipykernel_2377604\\2153077588.py:37: FutureWarning: The default of observed=False is deprecated and will be changed to True in a future version of pandas. Pass observed=False to retain current behavior or observed=True to adopt the future default and silence this warning.\n",
      "  bounce_by_bin = bounce_df.groupby('EMA_Bin')['Bounce_Percentage'].mean()\n"
     ]
    },
    {
     "name": "stdout",
     "output_type": "stream",
     "text": [
      "Processing RTY1 Index...\n"
     ]
    },
    {
     "name": "stderr",
     "output_type": "stream",
     "text": [
      "C:\\Users\\karsh\\AppData\\Local\\Temp\\ipykernel_2377604\\2153077588.py:37: FutureWarning: The default of observed=False is deprecated and will be changed to True in a future version of pandas. Pass observed=False to retain current behavior or observed=True to adopt the future default and silence this warning.\n",
      "  bounce_by_bin = bounce_df.groupby('EMA_Bin')['Bounce_Percentage'].mean()\n"
     ]
    },
    {
     "name": "stdout",
     "output_type": "stream",
     "text": [
      "Processing JB1 Comdty...\n"
     ]
    },
    {
     "name": "stderr",
     "output_type": "stream",
     "text": [
      "C:\\Users\\karsh\\AppData\\Local\\Temp\\ipykernel_2377604\\2153077588.py:37: FutureWarning: The default of observed=False is deprecated and will be changed to True in a future version of pandas. Pass observed=False to retain current behavior or observed=True to adopt the future default and silence this warning.\n",
      "  bounce_by_bin = bounce_df.groupby('EMA_Bin')['Bounce_Percentage'].mean()\n"
     ]
    },
    {
     "name": "stdout",
     "output_type": "stream",
     "text": [
      "Processing BTS1 Comdty...\n"
     ]
    },
    {
     "name": "stderr",
     "output_type": "stream",
     "text": [
      "C:\\Users\\karsh\\AppData\\Local\\Temp\\ipykernel_2377604\\2153077588.py:37: FutureWarning: The default of observed=False is deprecated and will be changed to True in a future version of pandas. Pass observed=False to retain current behavior or observed=True to adopt the future default and silence this warning.\n",
      "  bounce_by_bin = bounce_df.groupby('EMA_Bin')['Bounce_Percentage'].mean()\n"
     ]
    },
    {
     "name": "stdout",
     "output_type": "stream",
     "text": [
      "Processing DU1 Comdty...\n"
     ]
    },
    {
     "name": "stderr",
     "output_type": "stream",
     "text": [
      "C:\\Users\\karsh\\AppData\\Local\\Temp\\ipykernel_2377604\\2153077588.py:37: FutureWarning: The default of observed=False is deprecated and will be changed to True in a future version of pandas. Pass observed=False to retain current behavior or observed=True to adopt the future default and silence this warning.\n",
      "  bounce_by_bin = bounce_df.groupby('EMA_Bin')['Bounce_Percentage'].mean()\n"
     ]
    },
    {
     "name": "stdout",
     "output_type": "stream",
     "text": [
      "Processing G 1 Comdty...\n"
     ]
    },
    {
     "name": "stderr",
     "output_type": "stream",
     "text": [
      "C:\\Users\\karsh\\AppData\\Local\\Temp\\ipykernel_2377604\\2153077588.py:37: FutureWarning: The default of observed=False is deprecated and will be changed to True in a future version of pandas. Pass observed=False to retain current behavior or observed=True to adopt the future default and silence this warning.\n",
      "  bounce_by_bin = bounce_df.groupby('EMA_Bin')['Bounce_Percentage'].mean()\n"
     ]
    },
    {
     "name": "stdout",
     "output_type": "stream",
     "text": [
      "Processing IK1 Comdty...\n"
     ]
    },
    {
     "name": "stderr",
     "output_type": "stream",
     "text": [
      "C:\\Users\\karsh\\AppData\\Local\\Temp\\ipykernel_2377604\\2153077588.py:37: FutureWarning: The default of observed=False is deprecated and will be changed to True in a future version of pandas. Pass observed=False to retain current behavior or observed=True to adopt the future default and silence this warning.\n",
      "  bounce_by_bin = bounce_df.groupby('EMA_Bin')['Bounce_Percentage'].mean()\n"
     ]
    },
    {
     "name": "stdout",
     "output_type": "stream",
     "text": [
      "Processing OAT1 Comdty...\n"
     ]
    },
    {
     "name": "stderr",
     "output_type": "stream",
     "text": [
      "C:\\Users\\karsh\\AppData\\Local\\Temp\\ipykernel_2377604\\2153077588.py:37: FutureWarning: The default of observed=False is deprecated and will be changed to True in a future version of pandas. Pass observed=False to retain current behavior or observed=True to adopt the future default and silence this warning.\n",
      "  bounce_by_bin = bounce_df.groupby('EMA_Bin')['Bounce_Percentage'].mean()\n"
     ]
    },
    {
     "name": "stdout",
     "output_type": "stream",
     "text": [
      "Processing OE1 Comdty...\n"
     ]
    },
    {
     "name": "stderr",
     "output_type": "stream",
     "text": [
      "C:\\Users\\karsh\\AppData\\Local\\Temp\\ipykernel_2377604\\2153077588.py:37: FutureWarning: The default of observed=False is deprecated and will be changed to True in a future version of pandas. Pass observed=False to retain current behavior or observed=True to adopt the future default and silence this warning.\n",
      "  bounce_by_bin = bounce_df.groupby('EMA_Bin')['Bounce_Percentage'].mean()\n"
     ]
    },
    {
     "name": "stdout",
     "output_type": "stream",
     "text": [
      "Processing RX1 Comdty...\n"
     ]
    },
    {
     "name": "stderr",
     "output_type": "stream",
     "text": [
      "C:\\Users\\karsh\\AppData\\Local\\Temp\\ipykernel_2377604\\2153077588.py:37: FutureWarning: The default of observed=False is deprecated and will be changed to True in a future version of pandas. Pass observed=False to retain current behavior or observed=True to adopt the future default and silence this warning.\n",
      "  bounce_by_bin = bounce_df.groupby('EMA_Bin')['Bounce_Percentage'].mean()\n"
     ]
    },
    {
     "name": "stdout",
     "output_type": "stream",
     "text": [
      "Processing UB1 Comdty...\n"
     ]
    },
    {
     "name": "stderr",
     "output_type": "stream",
     "text": [
      "C:\\Users\\karsh\\AppData\\Local\\Temp\\ipykernel_2377604\\2153077588.py:37: FutureWarning: The default of observed=False is deprecated and will be changed to True in a future version of pandas. Pass observed=False to retain current behavior or observed=True to adopt the future default and silence this warning.\n",
      "  bounce_by_bin = bounce_df.groupby('EMA_Bin')['Bounce_Percentage'].mean()\n"
     ]
    },
    {
     "name": "stdout",
     "output_type": "stream",
     "text": [
      "Processing CN1 Comdty...\n"
     ]
    },
    {
     "name": "stderr",
     "output_type": "stream",
     "text": [
      "C:\\Users\\karsh\\AppData\\Local\\Temp\\ipykernel_2377604\\2153077588.py:37: FutureWarning: The default of observed=False is deprecated and will be changed to True in a future version of pandas. Pass observed=False to retain current behavior or observed=True to adopt the future default and silence this warning.\n",
      "  bounce_by_bin = bounce_df.groupby('EMA_Bin')['Bounce_Percentage'].mean()\n"
     ]
    },
    {
     "name": "stdout",
     "output_type": "stream",
     "text": [
      "Processing FV1 Comdty...\n"
     ]
    },
    {
     "name": "stderr",
     "output_type": "stream",
     "text": [
      "C:\\Users\\karsh\\AppData\\Local\\Temp\\ipykernel_2377604\\2153077588.py:37: FutureWarning: The default of observed=False is deprecated and will be changed to True in a future version of pandas. Pass observed=False to retain current behavior or observed=True to adopt the future default and silence this warning.\n",
      "  bounce_by_bin = bounce_df.groupby('EMA_Bin')['Bounce_Percentage'].mean()\n"
     ]
    },
    {
     "name": "stdout",
     "output_type": "stream",
     "text": [
      "Processing TU1 Comdty...\n"
     ]
    },
    {
     "name": "stderr",
     "output_type": "stream",
     "text": [
      "C:\\Users\\karsh\\AppData\\Local\\Temp\\ipykernel_2377604\\2153077588.py:37: FutureWarning: The default of observed=False is deprecated and will be changed to True in a future version of pandas. Pass observed=False to retain current behavior or observed=True to adopt the future default and silence this warning.\n",
      "  bounce_by_bin = bounce_df.groupby('EMA_Bin')['Bounce_Percentage'].mean()\n"
     ]
    },
    {
     "name": "stdout",
     "output_type": "stream",
     "text": [
      "Processing TY1 Comdty...\n"
     ]
    },
    {
     "name": "stderr",
     "output_type": "stream",
     "text": [
      "C:\\Users\\karsh\\AppData\\Local\\Temp\\ipykernel_2377604\\2153077588.py:37: FutureWarning: The default of observed=False is deprecated and will be changed to True in a future version of pandas. Pass observed=False to retain current behavior or observed=True to adopt the future default and silence this warning.\n",
      "  bounce_by_bin = bounce_df.groupby('EMA_Bin')['Bounce_Percentage'].mean()\n"
     ]
    },
    {
     "name": "stdout",
     "output_type": "stream",
     "text": [
      "Processing US1 Comdty...\n"
     ]
    },
    {
     "name": "stderr",
     "output_type": "stream",
     "text": [
      "C:\\Users\\karsh\\AppData\\Local\\Temp\\ipykernel_2377604\\2153077588.py:37: FutureWarning: The default of observed=False is deprecated and will be changed to True in a future version of pandas. Pass observed=False to retain current behavior or observed=True to adopt the future default and silence this warning.\n",
      "  bounce_by_bin = bounce_df.groupby('EMA_Bin')['Bounce_Percentage'].mean()\n"
     ]
    },
    {
     "name": "stdout",
     "output_type": "stream",
     "text": [
      "Processing WN1 Comdty...\n"
     ]
    },
    {
     "name": "stderr",
     "output_type": "stream",
     "text": [
      "C:\\Users\\karsh\\AppData\\Local\\Temp\\ipykernel_2377604\\2153077588.py:37: FutureWarning: The default of observed=False is deprecated and will be changed to True in a future version of pandas. Pass observed=False to retain current behavior or observed=True to adopt the future default and silence this warning.\n",
      "  bounce_by_bin = bounce_df.groupby('EMA_Bin')['Bounce_Percentage'].mean()\n"
     ]
    },
    {
     "name": "stdout",
     "output_type": "stream",
     "text": [
      "Processing AD1 Curncy...\n"
     ]
    },
    {
     "name": "stderr",
     "output_type": "stream",
     "text": [
      "C:\\Users\\karsh\\AppData\\Local\\Temp\\ipykernel_2377604\\2153077588.py:37: FutureWarning: The default of observed=False is deprecated and will be changed to True in a future version of pandas. Pass observed=False to retain current behavior or observed=True to adopt the future default and silence this warning.\n",
      "  bounce_by_bin = bounce_df.groupby('EMA_Bin')['Bounce_Percentage'].mean()\n"
     ]
    },
    {
     "name": "stdout",
     "output_type": "stream",
     "text": [
      "Processing BP1 Curncy...\n"
     ]
    },
    {
     "name": "stderr",
     "output_type": "stream",
     "text": [
      "C:\\Users\\karsh\\AppData\\Local\\Temp\\ipykernel_2377604\\2153077588.py:37: FutureWarning: The default of observed=False is deprecated and will be changed to True in a future version of pandas. Pass observed=False to retain current behavior or observed=True to adopt the future default and silence this warning.\n",
      "  bounce_by_bin = bounce_df.groupby('EMA_Bin')['Bounce_Percentage'].mean()\n"
     ]
    },
    {
     "name": "stdout",
     "output_type": "stream",
     "text": [
      "Processing CD1 Curncy...\n"
     ]
    },
    {
     "name": "stderr",
     "output_type": "stream",
     "text": [
      "C:\\Users\\karsh\\AppData\\Local\\Temp\\ipykernel_2377604\\2153077588.py:37: FutureWarning: The default of observed=False is deprecated and will be changed to True in a future version of pandas. Pass observed=False to retain current behavior or observed=True to adopt the future default and silence this warning.\n",
      "  bounce_by_bin = bounce_df.groupby('EMA_Bin')['Bounce_Percentage'].mean()\n"
     ]
    },
    {
     "name": "stdout",
     "output_type": "stream",
     "text": [
      "Processing DX1 Curncy...\n"
     ]
    },
    {
     "name": "stderr",
     "output_type": "stream",
     "text": [
      "C:\\Users\\karsh\\AppData\\Local\\Temp\\ipykernel_2377604\\2153077588.py:37: FutureWarning: The default of observed=False is deprecated and will be changed to True in a future version of pandas. Pass observed=False to retain current behavior or observed=True to adopt the future default and silence this warning.\n",
      "  bounce_by_bin = bounce_df.groupby('EMA_Bin')['Bounce_Percentage'].mean()\n"
     ]
    },
    {
     "name": "stdout",
     "output_type": "stream",
     "text": [
      "Processing EC1 Curncy...\n"
     ]
    },
    {
     "name": "stderr",
     "output_type": "stream",
     "text": [
      "C:\\Users\\karsh\\AppData\\Local\\Temp\\ipykernel_2377604\\2153077588.py:37: FutureWarning: The default of observed=False is deprecated and will be changed to True in a future version of pandas. Pass observed=False to retain current behavior or observed=True to adopt the future default and silence this warning.\n",
      "  bounce_by_bin = bounce_df.groupby('EMA_Bin')['Bounce_Percentage'].mean()\n"
     ]
    },
    {
     "name": "stdout",
     "output_type": "stream",
     "text": [
      "Processing JY1 Curncy...\n"
     ]
    },
    {
     "name": "stderr",
     "output_type": "stream",
     "text": [
      "C:\\Users\\karsh\\AppData\\Local\\Temp\\ipykernel_2377604\\2153077588.py:37: FutureWarning: The default of observed=False is deprecated and will be changed to True in a future version of pandas. Pass observed=False to retain current behavior or observed=True to adopt the future default and silence this warning.\n",
      "  bounce_by_bin = bounce_df.groupby('EMA_Bin')['Bounce_Percentage'].mean()\n"
     ]
    },
    {
     "name": "stdout",
     "output_type": "stream",
     "text": [
      "Processing KO1 Curncy...\n"
     ]
    },
    {
     "name": "stderr",
     "output_type": "stream",
     "text": [
      "C:\\Users\\karsh\\AppData\\Local\\Temp\\ipykernel_2377604\\2153077588.py:37: FutureWarning: The default of observed=False is deprecated and will be changed to True in a future version of pandas. Pass observed=False to retain current behavior or observed=True to adopt the future default and silence this warning.\n",
      "  bounce_by_bin = bounce_df.groupby('EMA_Bin')['Bounce_Percentage'].mean()\n"
     ]
    },
    {
     "name": "stdout",
     "output_type": "stream",
     "text": [
      "Processing NV1 Curncy...\n"
     ]
    },
    {
     "name": "stderr",
     "output_type": "stream",
     "text": [
      "C:\\Users\\karsh\\AppData\\Local\\Temp\\ipykernel_2377604\\2153077588.py:37: FutureWarning: The default of observed=False is deprecated and will be changed to True in a future version of pandas. Pass observed=False to retain current behavior or observed=True to adopt the future default and silence this warning.\n",
      "  bounce_by_bin = bounce_df.groupby('EMA_Bin')['Bounce_Percentage'].mean()\n"
     ]
    },
    {
     "name": "stdout",
     "output_type": "stream",
     "text": [
      "Processing PE1 Curncy...\n"
     ]
    },
    {
     "name": "stderr",
     "output_type": "stream",
     "text": [
      "C:\\Users\\karsh\\AppData\\Local\\Temp\\ipykernel_2377604\\2153077588.py:37: FutureWarning: The default of observed=False is deprecated and will be changed to True in a future version of pandas. Pass observed=False to retain current behavior or observed=True to adopt the future default and silence this warning.\n",
      "  bounce_by_bin = bounce_df.groupby('EMA_Bin')['Bounce_Percentage'].mean()\n"
     ]
    },
    {
     "name": "stdout",
     "output_type": "stream",
     "text": [
      "Processing SF1 Curncy...\n"
     ]
    },
    {
     "name": "stderr",
     "output_type": "stream",
     "text": [
      "C:\\Users\\karsh\\AppData\\Local\\Temp\\ipykernel_2377604\\2153077588.py:37: FutureWarning: The default of observed=False is deprecated and will be changed to True in a future version of pandas. Pass observed=False to retain current behavior or observed=True to adopt the future default and silence this warning.\n",
      "  bounce_by_bin = bounce_df.groupby('EMA_Bin')['Bounce_Percentage'].mean()\n"
     ]
    },
    {
     "name": "stdout",
     "output_type": "stream",
     "text": [
      "Processing XID1 Curncy...\n"
     ]
    },
    {
     "name": "stderr",
     "output_type": "stream",
     "text": [
      "C:\\Users\\karsh\\AppData\\Local\\Temp\\ipykernel_2377604\\2153077588.py:37: FutureWarning: The default of observed=False is deprecated and will be changed to True in a future version of pandas. Pass observed=False to retain current behavior or observed=True to adopt the future default and silence this warning.\n",
      "  bounce_by_bin = bounce_df.groupby('EMA_Bin')['Bounce_Percentage'].mean()\n"
     ]
    },
    {
     "name": "stdout",
     "output_type": "stream",
     "text": [
      "Processing ER6 Comdty...\n"
     ]
    },
    {
     "name": "stderr",
     "output_type": "stream",
     "text": [
      "C:\\Users\\karsh\\AppData\\Local\\Temp\\ipykernel_2377604\\2153077588.py:37: FutureWarning: The default of observed=False is deprecated and will be changed to True in a future version of pandas. Pass observed=False to retain current behavior or observed=True to adopt the future default and silence this warning.\n",
      "  bounce_by_bin = bounce_df.groupby('EMA_Bin')['Bounce_Percentage'].mean()\n"
     ]
    },
    {
     "name": "stdout",
     "output_type": "stream",
     "text": [
      "Processing IR6 Comdty...\n"
     ]
    },
    {
     "name": "stderr",
     "output_type": "stream",
     "text": [
      "C:\\Users\\karsh\\AppData\\Local\\Temp\\ipykernel_2377604\\2153077588.py:37: FutureWarning: The default of observed=False is deprecated and will be changed to True in a future version of pandas. Pass observed=False to retain current behavior or observed=True to adopt the future default and silence this warning.\n",
      "  bounce_by_bin = bounce_df.groupby('EMA_Bin')['Bounce_Percentage'].mean()\n"
     ]
    },
    {
     "name": "stdout",
     "output_type": "stream",
     "text": [
      "Processing SFI6 Comdty...\n"
     ]
    },
    {
     "name": "stderr",
     "output_type": "stream",
     "text": [
      "C:\\Users\\karsh\\AppData\\Local\\Temp\\ipykernel_2377604\\2153077588.py:37: FutureWarning: The default of observed=False is deprecated and will be changed to True in a future version of pandas. Pass observed=False to retain current behavior or observed=True to adopt the future default and silence this warning.\n",
      "  bounce_by_bin = bounce_df.groupby('EMA_Bin')['Bounce_Percentage'].mean()\n"
     ]
    },
    {
     "name": "stdout",
     "output_type": "stream",
     "text": [
      "Processing SFR8 Comdty...\n"
     ]
    },
    {
     "name": "stderr",
     "output_type": "stream",
     "text": [
      "C:\\Users\\karsh\\AppData\\Local\\Temp\\ipykernel_2377604\\2153077588.py:37: FutureWarning: The default of observed=False is deprecated and will be changed to True in a future version of pandas. Pass observed=False to retain current behavior or observed=True to adopt the future default and silence this warning.\n",
      "  bounce_by_bin = bounce_df.groupby('EMA_Bin')['Bounce_Percentage'].mean()\n"
     ]
    },
    {
     "name": "stdout",
     "output_type": "stream",
     "text": [
      "Processing SSY4 Comdty...\n"
     ]
    },
    {
     "name": "stderr",
     "output_type": "stream",
     "text": [
      "C:\\Users\\karsh\\AppData\\Local\\Temp\\ipykernel_2377604\\2153077588.py:37: FutureWarning: The default of observed=False is deprecated and will be changed to True in a future version of pandas. Pass observed=False to retain current behavior or observed=True to adopt the future default and silence this warning.\n",
      "  bounce_by_bin = bounce_df.groupby('EMA_Bin')['Bounce_Percentage'].mean()\n"
     ]
    }
   ],
   "source": [
    "all_asset_bounce_percentages = calculate_bounce_percentages_for_all_assets(mktdata)"
   ]
  },
  {
   "cell_type": "code",
   "execution_count": 35,
   "metadata": {},
   "outputs": [],
   "source": [
    "all_asset_bounce_percentages.to_csv('all_asset_bounce_percentages.csv')"
   ]
  },
  {
   "cell_type": "code",
   "execution_count": 39,
   "metadata": {},
   "outputs": [],
   "source": [
    "all_asset_bounce_percentages = all_asset_bounce_percentages / 100"
   ]
  },
  {
   "cell_type": "code",
   "execution_count": 40,
   "metadata": {},
   "outputs": [],
   "source": [
    "all_asset_bounce_percentages.to_clipboard()"
   ]
  },
  {
   "cell_type": "code",
   "execution_count": null,
   "metadata": {},
   "outputs": [],
   "source": []
  }
 ],
 "metadata": {
  "kernelspec": {
   "display_name": "base",
   "language": "python",
   "name": "python3"
  },
  "language_info": {
   "codemirror_mode": {
    "name": "ipython",
    "version": 3
   },
   "file_extension": ".py",
   "mimetype": "text/x-python",
   "name": "python",
   "nbconvert_exporter": "python",
   "pygments_lexer": "ipython3",
   "version": "3.11.9"
  }
 },
 "nbformat": 4,
 "nbformat_minor": 2
}
